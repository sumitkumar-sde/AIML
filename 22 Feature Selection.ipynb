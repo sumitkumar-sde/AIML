{
 "cells": [
  {
   "cell_type": "code",
   "execution_count": 1,
   "id": "8fe259ce-28ae-46c8-aede-b3f5ec3dede3",
   "metadata": {},
   "outputs": [],
   "source": [
    "# Dataset : paribas.csv, saandar.csv"
   ]
  },
  {
   "cell_type": "code",
   "execution_count": 2,
   "id": "dc40af44-b374-46ae-88d1-34849c8081d4",
   "metadata": {},
   "outputs": [],
   "source": [
    "import pandas as pd\n",
    "import numpy as np\n",
    "import matplotlib.pyplot as plt"
   ]
  },
  {
   "cell_type": "code",
   "execution_count": 3,
   "id": "f24bf665-08d7-473e-b300-7ed6e3cdd6ac",
   "metadata": {},
   "outputs": [
    {
     "data": {
      "text/plain": [
       "(40000, 371)"
      ]
     },
     "execution_count": 3,
     "metadata": {},
     "output_type": "execute_result"
    }
   ],
   "source": [
    "df = pd.read_csv('Datasets/satandar.csv', nrows=40000)\n",
    "df.shape"
   ]
  },
  {
   "cell_type": "code",
   "execution_count": 4,
   "id": "04dfc04a-ca31-43df-833c-d9b86b91dc55",
   "metadata": {},
   "outputs": [
    {
     "data": {
      "text/plain": [
       "Index(['ID', 'var3', 'var15', 'imp_ent_var16_ult1', 'imp_op_var39_comer_ult1',\n",
       "       'imp_op_var39_comer_ult3', 'imp_op_var40_comer_ult1',\n",
       "       'imp_op_var40_comer_ult3', 'imp_op_var40_efect_ult1',\n",
       "       'imp_op_var40_efect_ult3',\n",
       "       ...\n",
       "       'saldo_medio_var33_hace2', 'saldo_medio_var33_hace3',\n",
       "       'saldo_medio_var33_ult1', 'saldo_medio_var33_ult3',\n",
       "       'saldo_medio_var44_hace2', 'saldo_medio_var44_hace3',\n",
       "       'saldo_medio_var44_ult1', 'saldo_medio_var44_ult3', 'var38', 'TARGET'],\n",
       "      dtype='object', length=371)"
      ]
     },
     "execution_count": 4,
     "metadata": {},
     "output_type": "execute_result"
    }
   ],
   "source": [
    "df.columns"
   ]
  },
  {
   "cell_type": "code",
   "execution_count": 7,
   "id": "cee2b16d-18a7-4e67-a358-631506b7082c",
   "metadata": {},
   "outputs": [
    {
     "data": {
      "text/plain": [
       "0        0\n",
       "1        0\n",
       "2        0\n",
       "3        0\n",
       "4        0\n",
       "        ..\n",
       "39995    0\n",
       "39996    0\n",
       "39997    0\n",
       "39998    0\n",
       "39999    0\n",
       "Name: TARGET, Length: 40000, dtype: int64"
      ]
     },
     "execution_count": 7,
     "metadata": {},
     "output_type": "execute_result"
    }
   ],
   "source": [
    "df['TARGET']"
   ]
  },
  {
   "cell_type": "code",
   "execution_count": 30,
   "id": "f3abfeaf-2c58-4ff3-b62f-86fd0c59894d",
   "metadata": {},
   "outputs": [
    {
     "data": {
      "text/plain": [
       "(40000, 370)"
      ]
     },
     "execution_count": 30,
     "metadata": {},
     "output_type": "execute_result"
    }
   ],
   "source": [
    "x = df.drop('TARGET',axis=1)\n",
    "x.shape"
   ]
  },
  {
   "cell_type": "code",
   "execution_count": 31,
   "id": "fddc701c-8eb4-40ee-abd2-5bcdf21e1f6d",
   "metadata": {},
   "outputs": [
    {
     "data": {
      "text/plain": [
       "array([6, 5, 4, 3, 6, 7, 8, 9])"
      ]
     },
     "execution_count": 31,
     "metadata": {},
     "output_type": "execute_result"
    }
   ],
   "source": [
    "z = np.array([6,5,4,3,6,7,8,9])\n",
    "z"
   ]
  },
  {
   "cell_type": "code",
   "execution_count": 32,
   "id": "9ab863d9-4f65-401c-840a-a64c0413f275",
   "metadata": {},
   "outputs": [
    {
     "data": {
      "text/plain": [
       "3.5"
      ]
     },
     "execution_count": 32,
     "metadata": {},
     "output_type": "execute_result"
    }
   ],
   "source": [
    "z.var()"
   ]
  },
  {
   "cell_type": "code",
   "execution_count": 33,
   "id": "b4449e4b-39d9-40e3-9ed1-1c0ff0243a12",
   "metadata": {},
   "outputs": [
    {
     "data": {
      "text/plain": [
       "3.5"
      ]
     },
     "execution_count": 33,
     "metadata": {},
     "output_type": "execute_result"
    }
   ],
   "source": [
    "np.mean((z-z.mean())**2)"
   ]
  },
  {
   "cell_type": "code",
   "execution_count": 34,
   "id": "de37bc6e-5492-4a04-91ed-30589c14bd9e",
   "metadata": {},
   "outputs": [
    {
     "data": {
      "text/plain": [
       "array([5., 5., 5., 5., 5., 5., 5., 5.])"
      ]
     },
     "execution_count": 34,
     "metadata": {},
     "output_type": "execute_result"
    }
   ],
   "source": [
    "y = np.ones(8)*5\n",
    "y"
   ]
  },
  {
   "cell_type": "code",
   "execution_count": 35,
   "id": "feccadf7-f4a4-47bc-849e-eb1a2e379229",
   "metadata": {},
   "outputs": [
    {
     "data": {
      "text/plain": [
       "0.0"
      ]
     },
     "execution_count": 35,
     "metadata": {},
     "output_type": "execute_result"
    }
   ],
   "source": [
    "y.var()"
   ]
  },
  {
   "cell_type": "markdown",
   "id": "968bb382-8b80-4db0-840a-dcdc8fd0e8a2",
   "metadata": {},
   "source": [
    "#### Varience Threshold"
   ]
  },
  {
   "cell_type": "code",
   "execution_count": 36,
   "id": "7116a75d-887f-4c14-af8d-aaf8a5d5bedf",
   "metadata": {},
   "outputs": [
    {
     "name": "stdout",
     "output_type": "stream",
     "text": [
      "VarianceThreshold(threshold=0)\n"
     ]
    }
   ],
   "source": [
    "from sklearn.feature_selection import VarianceThreshold\n",
    "vt = VarianceThreshold(threshold=0)\n",
    "print(vt.fit(x))"
   ]
  },
  {
   "cell_type": "code",
   "execution_count": 37,
   "id": "a576bdc6-ef44-4ca5-8e62-80ae2c410222",
   "metadata": {},
   "outputs": [
    {
     "data": {
      "text/plain": [
       "array([ True,  True,  True,  True,  True,  True,  True,  True,  True,\n",
       "        True,  True,  True,  True,  True,  True,  True,  True,  True,\n",
       "        True,  True,  True,  True, False, False,  True,  True,  True,\n",
       "        True,  True,  True,  True,  True,  True,  True,  True,  True,\n",
       "        True,  True,  True,  True,  True,  True,  True,  True, False,\n",
       "       False,  True,  True,  True,  True,  True,  True,  True,  True,\n",
       "        True,  True,  True, False, False, False, False,  True,  True,\n",
       "        True,  True,  True,  True,  True,  True,  True,  True,  True,\n",
       "       False, False,  True,  True,  True,  True,  True,  True,  True,\n",
       "       False,  True,  True,  True, False, False,  True,  True,  True,\n",
       "        True,  True,  True,  True,  True,  True,  True,  True,  True,\n",
       "        True,  True,  True,  True,  True,  True,  True,  True,  True,\n",
       "        True,  True, False, False,  True,  True,  True,  True,  True,\n",
       "        True,  True,  True,  True,  True,  True,  True,  True,  True,\n",
       "        True,  True,  True,  True,  True,  True, False, False, False,\n",
       "       False,  True,  True,  True,  True,  True,  True,  True,  True,\n",
       "        True,  True, False, False,  True,  True,  True,  True,  True,\n",
       "        True,  True,  True, False,  True,  True,  True,  True,  True,\n",
       "       False, False,  True,  True,  True,  True,  True,  True,  True,\n",
       "        True,  True,  True,  True, False,  True,  True,  True,  True,\n",
       "       False, False,  True,  True,  True,  True,  True, False,  True,\n",
       "        True, False,  True,  True, False,  True, False, False,  True,\n",
       "        True,  True,  True,  True,  True,  True,  True,  True,  True,\n",
       "        True,  True,  True,  True,  True,  True,  True,  True,  True,\n",
       "        True,  True,  True,  True,  True, False, False, False, False,\n",
       "        True,  True,  True,  True,  True,  True,  True,  True,  True,\n",
       "        True, False,  True, False,  True, False,  True,  True,  True,\n",
       "        True,  True, False,  True,  True,  True, False,  True,  True,\n",
       "        True,  True,  True,  True,  True,  True,  True,  True,  True,\n",
       "        True, False, False,  True,  True,  True,  True,  True,  True,\n",
       "        True,  True,  True,  True,  True,  True,  True,  True,  True,\n",
       "        True,  True,  True,  True,  True,  True,  True,  True,  True,\n",
       "        True,  True,  True,  True,  True,  True,  True,  True,  True,\n",
       "        True,  True,  True,  True,  True,  True,  True, False,  True,\n",
       "       False,  True, False,  True,  True,  True,  True,  True,  True,\n",
       "        True, False,  True,  True,  True, False,  True,  True,  True,\n",
       "        True,  True,  True,  True, False,  True,  True,  True,  True,\n",
       "        True,  True,  True,  True,  True,  True,  True,  True,  True,\n",
       "        True,  True,  True,  True,  True,  True,  True,  True, False,\n",
       "        True,  True,  True,  True,  True,  True,  True,  True,  True,\n",
       "        True,  True,  True,  True,  True,  True,  True,  True,  True,\n",
       "        True])"
      ]
     },
     "execution_count": 37,
     "metadata": {},
     "output_type": "execute_result"
    }
   ],
   "source": [
    "# Where ever find false there threshold is zero \n",
    "vt.get_support()"
   ]
  },
  {
   "cell_type": "code",
   "execution_count": 50,
   "id": "55f91247-df19-4319-b362-eabd74b105a5",
   "metadata": {},
   "outputs": [],
   "source": [
    "# Apply the Mask \n",
    "# iloc contain all row and These column\n",
    "# Applicable on co\n",
    "x_new = x.iloc[:, vt.get_support()]"
   ]
  },
  {
   "cell_type": "code",
   "execution_count": 49,
   "id": "d985b155-112e-4299-84cc-7d735778b0e4",
   "metadata": {},
   "outputs": [
    {
     "data": {
      "text/plain": [
       "(40000, 320)"
      ]
     },
     "execution_count": 49,
     "metadata": {},
     "output_type": "execute_result"
    }
   ],
   "source": [
    "x_new.shape"
   ]
  },
  {
   "cell_type": "code",
   "execution_count": 53,
   "id": "2596df7b-9ef2-41ae-88b0-49cfd38ec766",
   "metadata": {},
   "outputs": [
    {
     "data": {
      "text/plain": [
       "0"
      ]
     },
     "execution_count": 53,
     "metadata": {},
     "output_type": "execute_result"
    }
   ],
   "source": [
    "x_new.duplicated().sum()"
   ]
  },
  {
   "cell_type": "code",
   "execution_count": 55,
   "id": "337f9881-c83b-4bdf-90f1-4217030d9012",
   "metadata": {},
   "outputs": [
    {
     "data": {
      "text/plain": [
       "0"
      ]
     },
     "execution_count": 55,
     "metadata": {},
     "output_type": "execute_result"
    }
   ],
   "source": [
    "x.duplicated().sum()"
   ]
  },
  {
   "cell_type": "code",
   "execution_count": 59,
   "id": "68c0093a-c825-40d7-8079-25d0b2cf02f7",
   "metadata": {},
   "outputs": [],
   "source": [
    "# To Apply on Row to find duplicate Data\n",
    "xt = x.T"
   ]
  },
  {
   "cell_type": "code",
   "execution_count": 60,
   "id": "3cb008b3-9ef1-4396-aa15-9dedbd210a37",
   "metadata": {},
   "outputs": [
    {
     "data": {
      "text/plain": [
       "79"
      ]
     },
     "execution_count": 60,
     "metadata": {},
     "output_type": "execute_result"
    }
   ],
   "source": [
    "xt.duplicated().sum()"
   ]
  },
  {
   "cell_type": "code",
   "execution_count": 62,
   "id": "05f39f56-5560-4dab-9fb8-30e23863c107",
   "metadata": {},
   "outputs": [],
   "source": [
    "xt.drop_duplicates(inplace=True)"
   ]
  },
  {
   "cell_type": "code",
   "execution_count": 63,
   "id": "b34d907a-4244-4d4a-bce9-d45f821c7a87",
   "metadata": {},
   "outputs": [
    {
     "data": {
      "text/plain": [
       "(40000, 291)"
      ]
     },
     "execution_count": 63,
     "metadata": {},
     "output_type": "execute_result"
    }
   ],
   "source": [
    "x_x = xt.T\n",
    "x_x.shape"
   ]
  },
  {
   "cell_type": "code",
   "execution_count": 64,
   "id": "a8bb6406-66f3-4573-b449-ad3ade2a3c3f",
   "metadata": {},
   "outputs": [
    {
     "data": {
      "text/plain": [
       "0"
      ]
     },
     "execution_count": 64,
     "metadata": {},
     "output_type": "execute_result"
    }
   ],
   "source": [
    "x_x.duplicated().sum()"
   ]
  },
  {
   "cell_type": "markdown",
   "id": "ba6a915f-11c5-405d-a7a6-da43415cb52a",
   "metadata": {},
   "source": [
    "### Co-relation method"
   ]
  },
  {
   "cell_type": "code",
   "execution_count": 69,
   "id": "9ef364d3-6b81-47ac-88fb-a18ea6d5050d",
   "metadata": {},
   "outputs": [],
   "source": [
    "# Lenearly connected Data\n",
    "# Pro-portional Data"
   ]
  },
  {
   "cell_type": "code",
   "execution_count": 148,
   "id": "9dba5647-3f92-40cc-97ad-ec161917bf81",
   "metadata": {},
   "outputs": [],
   "source": [
    "# Remove co-related Feature"
   ]
  },
  {
   "cell_type": "code",
   "execution_count": 149,
   "id": "b183f0b7-6590-48af-b564-af13d82093d6",
   "metadata": {},
   "outputs": [],
   "source": [
    "a = np.array([12, 34, 45, 51, 57, 67, 78, 89, 93, 95])\n",
    "b = np.array([5, 9, 11, 16, 23, 31, 37, 51, 44, 50])\n",
    "c = np.array([56, 54, 34, 48, 33, 21, 11, 16, 5, 2])\n",
    "d = np.array([67, 65, 34, 27, 54, 33, 67, 44, 27, 53])\n"
   ]
  },
  {
   "cell_type": "code",
   "execution_count": 150,
   "id": "04c253b8-f7c6-4265-990f-2dfbd92f173a",
   "metadata": {},
   "outputs": [
    {
     "data": {
      "text/plain": [
       "[<matplotlib.lines.Line2D at 0x1ffb9a5d550>]"
      ]
     },
     "execution_count": 150,
     "metadata": {},
     "output_type": "execute_result"
    },
    {
     "data": {
      "image/png": "[encoded data removed]",
      "text/plain": [
       "<Figure size 640x480 with 1 Axes>"
      ]
     },
     "metadata": {},
     "output_type": "display_data"
    }
   ],
   "source": [
    "plt.plot(a,b)"
   ]
  },
  {
   "cell_type": "code",
   "execution_count": 151,
   "id": "419648d7-a114-4033-ba02-ea3f1658c27c",
   "metadata": {},
   "outputs": [
    {
     "data": {
      "text/plain": [
       "array([[1.        , 0.96433974],\n",
       "       [0.96433974, 1.        ]])"
      ]
     },
     "execution_count": 151,
     "metadata": {},
     "output_type": "execute_result"
    }
   ],
   "source": [
    "np.corrcoef(a, b)"
   ]
  },
  {
   "cell_type": "code",
   "execution_count": 152,
   "id": "b7b61d67-0214-489d-b65c-2c79d2a097e7",
   "metadata": {},
   "outputs": [
    {
     "data": {
      "text/plain": [
       "[<matplotlib.lines.Line2D at 0x1ff9e8b4d50>]"
      ]
     },
     "execution_count": 152,
     "metadata": {},
     "output_type": "execute_result"
    },
    {
     "data": {
      "image/png": "[encoded data removed]",
      "text/plain": [
       "<Figure size 640x480 with 1 Axes>"
      ]
     },
     "metadata": {},
     "output_type": "display_data"
    }
   ],
   "source": [
    "plt.plot(a,d)"
   ]
  },
  {
   "cell_type": "code",
   "execution_count": 153,
   "id": "5515d0f5-8483-4e37-af78-3b6ee93b7070",
   "metadata": {},
   "outputs": [
    {
     "data": {
      "text/plain": [
       "array([[ 1.        , -0.33616692],\n",
       "       [-0.33616692,  1.        ]])"
      ]
     },
     "execution_count": 153,
     "metadata": {},
     "output_type": "execute_result"
    }
   ],
   "source": [
    "np.corrcoef(a, d)"
   ]
  },
  {
   "cell_type": "code",
   "execution_count": 154,
   "id": "1748d39a-6245-46a6-b90b-9d5cc1068a93",
   "metadata": {},
   "outputs": [
    {
     "data": {
      "text/plain": [
       "(20000, 133)"
      ]
     },
     "execution_count": 154,
     "metadata": {},
     "output_type": "execute_result"
    }
   ],
   "source": [
    "df = pd.read_csv('Datasets/paribas.csv', nrows=20000)\n",
    "df.shape\n"
   ]
  },
  {
   "cell_type": "code",
   "execution_count": 155,
   "id": "2be3a2b6-825c-4eb5-ab7d-7773bb57a188",
   "metadata": {},
   "outputs": [
    {
     "data": {
      "text/plain": [
       "15157"
      ]
     },
     "execution_count": 155,
     "metadata": {},
     "output_type": "execute_result"
    }
   ],
   "source": [
    "df['target'].sum()"
   ]
  },
  {
   "cell_type": "code",
   "execution_count": 156,
   "id": "c1ff8029-4847-4a9f-9c05-dd1529d65625",
   "metadata": {},
   "outputs": [
    {
     "data": {
      "text/plain": [
       "(20000, 132)"
      ]
     },
     "execution_count": 156,
     "metadata": {},
     "output_type": "execute_result"
    }
   ],
   "source": [
    "x = df.drop('target', axis=1)\n",
    "x.shape"
   ]
  },
  {
   "cell_type": "code",
   "execution_count": 157,
   "id": "7f6e8ba0-be0f-4128-b872-bb9214fa7df1",
   "metadata": {},
   "outputs": [
    {
     "name": "stdout",
     "output_type": "stream",
     "text": [
      "<class 'pandas.core.frame.DataFrame'>\n",
      "RangeIndex: 20000 entries, 0 to 19999\n",
      "Columns: 132 entries, ID to v131\n",
      "dtypes: float64(108), int64(5), object(19)\n",
      "memory usage: 20.1+ MB\n"
     ]
    }
   ],
   "source": [
    "x.info()"
   ]
  },
  {
   "cell_type": "markdown",
   "id": "1639e971-72c0-4f0a-a4e9-9dc29f7418f6",
   "metadata": {},
   "source": [
    "## To Extract Numerical Columns"
   ]
  },
  {
   "cell_type": "code",
   "execution_count": 158,
   "id": "53f5de8a-2220-4048-bf6a-bd5ca4723563",
   "metadata": {},
   "outputs": [
    {
     "data": {
      "text/plain": [
       "['ID',\n",
       " 'v1',\n",
       " 'v2',\n",
       " 'v4',\n",
       " 'v5',\n",
       " 'v6',\n",
       " 'v7',\n",
       " 'v8',\n",
       " 'v9',\n",
       " 'v10',\n",
       " 'v11',\n",
       " 'v12',\n",
       " 'v13',\n",
       " 'v14',\n",
       " 'v15',\n",
       " 'v16',\n",
       " 'v17',\n",
       " 'v18',\n",
       " 'v19',\n",
       " 'v20',\n",
       " 'v21',\n",
       " 'v23',\n",
       " 'v25',\n",
       " 'v26',\n",
       " 'v27',\n",
       " 'v28',\n",
       " 'v29',\n",
       " 'v32',\n",
       " 'v33',\n",
       " 'v34',\n",
       " 'v35',\n",
       " 'v36',\n",
       " 'v37',\n",
       " 'v38',\n",
       " 'v39',\n",
       " 'v40',\n",
       " 'v41',\n",
       " 'v42',\n",
       " 'v43',\n",
       " 'v44',\n",
       " 'v45',\n",
       " 'v46',\n",
       " 'v48',\n",
       " 'v49',\n",
       " 'v50',\n",
       " 'v51',\n",
       " 'v53',\n",
       " 'v54',\n",
       " 'v55',\n",
       " 'v57',\n",
       " 'v58',\n",
       " 'v59',\n",
       " 'v60',\n",
       " 'v61',\n",
       " 'v62',\n",
       " 'v63',\n",
       " 'v64',\n",
       " 'v65',\n",
       " 'v67',\n",
       " 'v68',\n",
       " 'v69',\n",
       " 'v70',\n",
       " 'v72',\n",
       " 'v73',\n",
       " 'v76',\n",
       " 'v77',\n",
       " 'v78',\n",
       " 'v80',\n",
       " 'v81',\n",
       " 'v82',\n",
       " 'v83',\n",
       " 'v84',\n",
       " 'v85',\n",
       " 'v86',\n",
       " 'v87',\n",
       " 'v88',\n",
       " 'v89',\n",
       " 'v90',\n",
       " 'v92',\n",
       " 'v93',\n",
       " 'v94',\n",
       " 'v95',\n",
       " 'v96',\n",
       " 'v97',\n",
       " 'v98',\n",
       " 'v99',\n",
       " 'v100',\n",
       " 'v101',\n",
       " 'v102',\n",
       " 'v103',\n",
       " 'v104',\n",
       " 'v105',\n",
       " 'v106',\n",
       " 'v108',\n",
       " 'v109',\n",
       " 'v111',\n",
       " 'v114',\n",
       " 'v115',\n",
       " 'v116',\n",
       " 'v117',\n",
       " 'v118',\n",
       " 'v119',\n",
       " 'v120',\n",
       " 'v121',\n",
       " 'v122',\n",
       " 'v123',\n",
       " 'v124',\n",
       " 'v126',\n",
       " 'v127',\n",
       " 'v128',\n",
       " 'v129',\n",
       " 'v130',\n",
       " 'v131']"
      ]
     },
     "execution_count": 158,
     "metadata": {},
     "output_type": "execute_result"
    }
   ],
   "source": [
    "cols = ['int64', 'float']\n",
    "numerical_columns = list(x.select_dtypes(include=cols).columns)\n",
    "numerical_columns"
   ]
  },
  {
   "cell_type": "code",
   "execution_count": 159,
   "id": "52982086-8f5c-49e1-a996-34ed342e6aa7",
   "metadata": {},
   "outputs": [
    {
     "data": {
      "text/plain": [
       "(20000, 113)"
      ]
     },
     "execution_count": 159,
     "metadata": {},
     "output_type": "execute_result"
    }
   ],
   "source": [
    "x_new = x[numerical_columns]\n",
    "x_new.shape"
   ]
  },
  {
   "cell_type": "code",
   "execution_count": 160,
   "id": "f6999f46-bcc1-48ff-a8ce-a945f4ba7115",
   "metadata": {},
   "outputs": [
    {
     "data": {
      "text/plain": [
       "(113, 113)"
      ]
     },
     "execution_count": 160,
     "metadata": {},
     "output_type": "execute_result"
    }
   ],
   "source": [
    "#It will apply on only numerical data \n",
    "correlated_features = set()\n",
    "corelation_matrix = x_new.corr()\n",
    "corelation_matrix.shape"
   ]
  },
  {
   "cell_type": "code",
   "execution_count": 161,
   "id": "ea57dd2e-7fe7-48fd-ab4e-6ba3b423687e",
   "metadata": {},
   "outputs": [
    {
     "data": {
      "text/plain": [
       "113"
      ]
     },
     "execution_count": 161,
     "metadata": {},
     "output_type": "execute_result"
    }
   ],
   "source": [
    "len(corelation_matrix.columns)"
   ]
  },
  {
   "cell_type": "code",
   "execution_count": 162,
   "id": "af2d4355-7ab8-4c72-b4a2-1c3fc56d6d1b",
   "metadata": {},
   "outputs": [],
   "source": [
    "# Absolute value should to be taken for negetive value of corelation\n",
    "for i in range(len(corelation_matrix.columns)):\n",
    "    for j in range(i):\n",
    "        if abs(corelation_matrix.iloc[i,j]) > 0.8:\n",
    "            colname = corelation_matrix.columns[i]\n",
    "            correlated_features.add(colname)\n"
   ]
  },
  {
   "cell_type": "code",
   "execution_count": 163,
   "id": "42108033-a1d8-4063-92f8-c385ce758519",
   "metadata": {},
   "outputs": [
    {
     "data": {
      "text/plain": [
       "55"
      ]
     },
     "execution_count": 163,
     "metadata": {},
     "output_type": "execute_result"
    }
   ],
   "source": [
    "len(correlated_features)"
   ]
  },
  {
   "cell_type": "code",
   "execution_count": 164,
   "id": "79ae3d04-0600-4700-b5fc-36c2f5a45100",
   "metadata": {},
   "outputs": [],
   "source": [
    "x = x.drop(correlation_features, axis=1)"
   ]
  },
  {
   "cell_type": "code",
   "execution_count": 165,
   "id": "3a3bac6b-f85e-4d26-a085-fd517d292993",
   "metadata": {},
   "outputs": [
    {
     "data": {
      "text/plain": [
       "(20000, 77)"
      ]
     },
     "execution_count": 165,
     "metadata": {},
     "output_type": "execute_result"
    }
   ],
   "source": [
    "x.shape"
   ]
  },
  {
   "cell_type": "code",
   "execution_count": 166,
   "id": "8834f486-0ebd-49e2-aaaa-060268119777",
   "metadata": {},
   "outputs": [
    {
     "data": {
      "text/plain": [
       "(569, 32)"
      ]
     },
     "execution_count": 166,
     "metadata": {},
     "output_type": "execute_result"
    }
   ],
   "source": [
    "df = pd.read_csv('Datasets/wisc_bc_data.csv')\n",
    "df.shape"
   ]
  },
  {
   "cell_type": "code",
   "execution_count": 172,
   "id": "50e0e738-e586-4e9d-a10f-2e55bc4d95bc",
   "metadata": {},
   "outputs": [],
   "source": [
    "x = df.drop(['id', 'diagnosis'], axis = 1)"
   ]
  },
  {
   "cell_type": "code",
   "execution_count": 173,
   "id": "c351e3b2-5ccf-4af5-86e4-9bc3565e6ce2",
   "metadata": {},
   "outputs": [
    {
     "data": {
      "text/plain": [
       "(569, 30)"
      ]
     },
     "execution_count": 173,
     "metadata": {},
     "output_type": "execute_result"
    }
   ],
   "source": [
    "x.shape"
   ]
  },
  {
   "cell_type": "code",
   "execution_count": 174,
   "id": "073a0157-0a86-46d1-81f3-4dc23ccbb61f",
   "metadata": {},
   "outputs": [],
   "source": [
    "from sklearn.feature_selection import SelectKBest, chi2"
   ]
  },
  {
   "cell_type": "code",
   "execution_count": 175,
   "id": "155945a0-ae7a-46cd-b4a3-75c0e9df5623",
   "metadata": {},
   "outputs": [],
   "source": [
    "skf = SelectKBest(k=5, score_func = chi2)"
   ]
  },
  {
   "cell_type": "code",
   "execution_count": 178,
   "id": "6fd8f9e8-6d02-4207-9fae-69c4c658cb80",
   "metadata": {},
   "outputs": [
    {
     "data": {
      "text/html": [
       "<style>#sk-container-id-4 {color: black;background-color: white;}#sk-container-id-4 pre{padding: 0;}#sk-container-id-4 div.sk-toggleable {background-color: white;}#sk-container-id-4 label.sk-toggleable__label {cursor: pointer;display: block;width: 100%;margin-bottom: 0;padding: 0.3em;box-sizing: border-box;text-align: center;}#sk-container-id-4 label.sk-toggleable__label-arrow:before {content: \"▸\";float: left;margin-right: 0.25em;color: #696969;}#sk-container-id-4 label.sk-toggleable__label-arrow:hover:before {color: black;}#sk-container-id-4 div.sk-estimator:hover label.sk-toggleable__label-arrow:before {color: black;}#sk-container-id-4 div.sk-toggleable__content {max-height: 0;max-width: 0;overflow: hidden;text-align: left;background-color: #f0f8ff;}#sk-container-id-4 div.sk-toggleable__content pre {margin: 0.2em;color: black;border-radius: 0.25em;background-color: #f0f8ff;}#sk-container-id-4 input.sk-toggleable__control:checked~div.sk-toggleable__content {max-height: 200px;max-width: 100%;overflow: auto;}#sk-container-id-4 input.sk-toggleable__control:checked~label.sk-toggleable__label-arrow:before {content: \"▾\";}#sk-container-id-4 div.sk-estimator input.sk-toggleable__control:checked~label.sk-toggleable__label {background-color: #d4ebff;}#sk-container-id-4 div.sk-label input.sk-toggleable__control:checked~label.sk-toggleable__label {background-color: #d4ebff;}#sk-container-id-4 input.sk-hidden--visually {border: 0;clip: rect(1px 1px 1px 1px);clip: rect(1px, 1px, 1px, 1px);height: 1px;margin: -1px;overflow: hidden;padding: 0;position: absolute;width: 1px;}#sk-container-id-4 div.sk-estimator {font-family: monospace;background-color: #f0f8ff;border: 1px dotted black;border-radius: 0.25em;box-sizing: border-box;margin-bottom: 0.5em;}#sk-container-id-4 div.sk-estimator:hover {background-color: #d4ebff;}#sk-container-id-4 div.sk-parallel-item::after {content: \"\";width: 100%;border-bottom: 1px solid gray;flex-grow: 1;}#sk-container-id-4 div.sk-label:hover label.sk-toggleable__label {background-color: #d4ebff;}#sk-container-id-4 div.sk-serial::before {content: \"\";position: absolute;border-left: 1px solid gray;box-sizing: border-box;top: 0;bottom: 0;left: 50%;z-index: 0;}#sk-container-id-4 div.sk-serial {display: flex;flex-direction: column;align-items: center;background-color: white;padding-right: 0.2em;padding-left: 0.2em;position: relative;}#sk-container-id-4 div.sk-item {position: relative;z-index: 1;}#sk-container-id-4 div.sk-parallel {display: flex;align-items: stretch;justify-content: center;background-color: white;position: relative;}#sk-container-id-4 div.sk-item::before, #sk-container-id-4 div.sk-parallel-item::before {content: \"\";position: absolute;border-left: 1px solid gray;box-sizing: border-box;top: 0;bottom: 0;left: 50%;z-index: -1;}#sk-container-id-4 div.sk-parallel-item {display: flex;flex-direction: column;z-index: 1;position: relative;background-color: white;}#sk-container-id-4 div.sk-parallel-item:first-child::after {align-self: flex-end;width: 50%;}#sk-container-id-4 div.sk-parallel-item:last-child::after {align-self: flex-start;width: 50%;}#sk-container-id-4 div.sk-parallel-item:only-child::after {width: 0;}#sk-container-id-4 div.sk-dashed-wrapped {border: 1px dashed gray;margin: 0 0.4em 0.5em 0.4em;box-sizing: border-box;padding-bottom: 0.4em;background-color: white;}#sk-container-id-4 div.sk-label label {font-family: monospace;font-weight: bold;display: inline-block;line-height: 1.2em;}#sk-container-id-4 div.sk-label-container {text-align: center;}#sk-container-id-4 div.sk-container {/* jupyter's `normalize.less` sets `[hidden] { display: none; }` but bootstrap.min.css set `[hidden] { display: none !important; }` so we also need the `!important` here to be able to override the default hidden behavior on the sphinx rendered scikit-learn.org. See: https://github.com/scikit-learn/scikit-learn/issues/21755 */display: inline-block !important;position: relative;}#sk-container-id-4 div.sk-text-repr-fallback {display: none;}</style><div id=\"sk-container-id-4\" class=\"sk-top-container\"><div class=\"sk-text-repr-fallback\"><pre>SelectKBest(k=5, score_func=&lt;function chi2 at 0x000001FF99AAD800&gt;)</pre><b>In a Jupyter environment, please rerun this cell to show the HTML representation or trust the notebook. <br />On GitHub, the HTML representation is unable to render, please try loading this page with nbviewer.org.</b></div><div class=\"sk-container\" hidden><div class=\"sk-item\"><div class=\"sk-estimator sk-toggleable\"><input class=\"sk-toggleable__control sk-hidden--visually\" id=\"sk-estimator-id-4\" type=\"checkbox\" checked><label for=\"sk-estimator-id-4\" class=\"sk-toggleable__label sk-toggleable__label-arrow\">SelectKBest</label><div class=\"sk-toggleable__content\"><pre>SelectKBest(k=5, score_func=&lt;function chi2 at 0x000001FF99AAD800&gt;)</pre></div></div></div></div></div>"
      ],
      "text/plain": [
       "SelectKBest(k=5, score_func=<function chi2 at 0x000001FF99AAD800>)"
      ]
     },
     "execution_count": 178,
     "metadata": {},
     "output_type": "execute_result"
    }
   ],
   "source": [
    "skf.fit(x, df['diagnosis'])"
   ]
  },
  {
   "cell_type": "code",
   "execution_count": 179,
   "id": "41795b4c-9332-4dc6-91f0-ce1eafae2ed1",
   "metadata": {},
   "outputs": [
    {
     "data": {
      "text/plain": [
       "array([False, False,  True,  True, False, False, False, False, False,\n",
       "       False, False, False, False,  True, False, False, False, False,\n",
       "       False, False, False, False,  True,  True, False, False, False,\n",
       "       False, False, False])"
      ]
     },
     "execution_count": 179,
     "metadata": {},
     "output_type": "execute_result"
    }
   ],
   "source": [
    "skf.get_support()"
   ]
  },
  {
   "cell_type": "code",
   "execution_count": 180,
   "id": "c5aff82f-87db-4313-8558-16cea5dd364a",
   "metadata": {},
   "outputs": [
    {
     "data": {
      "text/html": [
       "<div>\n",
       "<style scoped>\n",
       "    .dataframe tbody tr th:only-of-type {\n",
       "        vertical-align: middle;\n",
       "    }\n",
       "\n",
       "    .dataframe tbody tr th {\n",
       "        vertical-align: top;\n",
       "    }\n",
       "\n",
       "    .dataframe thead th {\n",
       "        text-align: right;\n",
       "    }\n",
       "</style>\n",
       "<table border=\"1\" class=\"dataframe\">\n",
       "  <thead>\n",
       "    <tr style=\"text-align: right;\">\n",
       "      <th></th>\n",
       "      <th>perimeter_mean</th>\n",
       "      <th>area_mean</th>\n",
       "      <th>area_se</th>\n",
       "      <th>perimeter_worst</th>\n",
       "      <th>area_worst</th>\n",
       "    </tr>\n",
       "  </thead>\n",
       "  <tbody>\n",
       "    <tr>\n",
       "      <th>0</th>\n",
       "      <td>122.80</td>\n",
       "      <td>1001.0</td>\n",
       "      <td>153.40</td>\n",
       "      <td>184.60</td>\n",
       "      <td>2019.0</td>\n",
       "    </tr>\n",
       "    <tr>\n",
       "      <th>1</th>\n",
       "      <td>132.90</td>\n",
       "      <td>1326.0</td>\n",
       "      <td>74.08</td>\n",
       "      <td>158.80</td>\n",
       "      <td>1956.0</td>\n",
       "    </tr>\n",
       "    <tr>\n",
       "      <th>2</th>\n",
       "      <td>130.00</td>\n",
       "      <td>1203.0</td>\n",
       "      <td>94.03</td>\n",
       "      <td>152.50</td>\n",
       "      <td>1709.0</td>\n",
       "    </tr>\n",
       "    <tr>\n",
       "      <th>3</th>\n",
       "      <td>77.58</td>\n",
       "      <td>386.1</td>\n",
       "      <td>27.23</td>\n",
       "      <td>98.87</td>\n",
       "      <td>567.7</td>\n",
       "    </tr>\n",
       "    <tr>\n",
       "      <th>4</th>\n",
       "      <td>135.10</td>\n",
       "      <td>1297.0</td>\n",
       "      <td>94.44</td>\n",
       "      <td>152.20</td>\n",
       "      <td>1575.0</td>\n",
       "    </tr>\n",
       "    <tr>\n",
       "      <th>...</th>\n",
       "      <td>...</td>\n",
       "      <td>...</td>\n",
       "      <td>...</td>\n",
       "      <td>...</td>\n",
       "      <td>...</td>\n",
       "    </tr>\n",
       "    <tr>\n",
       "      <th>564</th>\n",
       "      <td>142.00</td>\n",
       "      <td>1479.0</td>\n",
       "      <td>158.70</td>\n",
       "      <td>166.10</td>\n",
       "      <td>2027.0</td>\n",
       "    </tr>\n",
       "    <tr>\n",
       "      <th>565</th>\n",
       "      <td>131.20</td>\n",
       "      <td>1261.0</td>\n",
       "      <td>99.04</td>\n",
       "      <td>155.00</td>\n",
       "      <td>1731.0</td>\n",
       "    </tr>\n",
       "    <tr>\n",
       "      <th>566</th>\n",
       "      <td>108.30</td>\n",
       "      <td>858.1</td>\n",
       "      <td>48.55</td>\n",
       "      <td>126.70</td>\n",
       "      <td>1124.0</td>\n",
       "    </tr>\n",
       "    <tr>\n",
       "      <th>567</th>\n",
       "      <td>140.10</td>\n",
       "      <td>1265.0</td>\n",
       "      <td>86.22</td>\n",
       "      <td>184.60</td>\n",
       "      <td>1821.0</td>\n",
       "    </tr>\n",
       "    <tr>\n",
       "      <th>568</th>\n",
       "      <td>47.92</td>\n",
       "      <td>181.0</td>\n",
       "      <td>19.15</td>\n",
       "      <td>59.16</td>\n",
       "      <td>268.6</td>\n",
       "    </tr>\n",
       "  </tbody>\n",
       "</table>\n",
       "<p>569 rows × 5 columns</p>\n",
       "</div>"
      ],
      "text/plain": [
       "     perimeter_mean  area_mean  area_se  perimeter_worst  area_worst\n",
       "0            122.80     1001.0   153.40           184.60      2019.0\n",
       "1            132.90     1326.0    74.08           158.80      1956.0\n",
       "2            130.00     1203.0    94.03           152.50      1709.0\n",
       "3             77.58      386.1    27.23            98.87       567.7\n",
       "4            135.10     1297.0    94.44           152.20      1575.0\n",
       "..              ...        ...      ...              ...         ...\n",
       "564          142.00     1479.0   158.70           166.10      2027.0\n",
       "565          131.20     1261.0    99.04           155.00      1731.0\n",
       "566          108.30      858.1    48.55           126.70      1124.0\n",
       "567          140.10     1265.0    86.22           184.60      1821.0\n",
       "568           47.92      181.0    19.15            59.16       268.6\n",
       "\n",
       "[569 rows x 5 columns]"
      ]
     },
     "execution_count": 180,
     "metadata": {},
     "output_type": "execute_result"
    }
   ],
   "source": [
    "x.iloc[:, skf.get_support()]"
   ]
  },
  {
   "cell_type": "code",
   "execution_count": null,
   "id": "111e1f98-a395-44db-9345-fca712fc8857",
   "metadata": {},
   "outputs": [],
   "source": []
  }
 ],
 "metadata": {
  "kernelspec": {
   "display_name": "Python 3 (ipykernel)",
   "language": "python",
   "name": "python3"
  },
  "language_info": {
   "codemirror_mode": {
    "name": "ipython",
    "version": 3
   },
   "file_extension": ".py",
   "mimetype": "text/x-python",
   "name": "python",
   "nbconvert_exporter": "python",
   "pygments_lexer": "ipython3",
   "version": "3.11.7"
  }
 },
 "nbformat": 4,
 "nbformat_minor": 5
}
