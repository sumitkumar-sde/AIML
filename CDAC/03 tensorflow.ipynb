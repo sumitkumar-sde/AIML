{
 "cells": [
  {
   "cell_type": "code",
   "execution_count": 1,
   "id": "8a7b8480-56f2-40f8-9603-8d16a1133b10",
   "metadata": {},
   "outputs": [],
   "source": [
    "import tensorflow as tf"
   ]
  },
  {
   "cell_type": "code",
   "execution_count": 2,
   "id": "5a81ee3c-0ffb-4463-8fd2-a828a331784d",
   "metadata": {},
   "outputs": [
    {
     "data": {
      "text/plain": [
       "<module 'tensorflow' from 'C:\\\\Users\\\\rajesh\\\\AppData\\\\Roaming\\\\Python\\\\Python311\\\\site-packages\\\\tensorflow\\\\__init__.py'>"
      ]
     },
     "execution_count": 2,
     "metadata": {},
     "output_type": "execute_result"
    }
   ],
   "source": [
    "tf"
   ]
  },
  {
   "cell_type": "code",
   "execution_count": 5,
   "id": "be2c61bd-f789-4346-a469-55d542fcc568",
   "metadata": {},
   "outputs": [
    {
     "name": "stdout",
     "output_type": "stream",
     "text": [
      "Help on method-wrapper:\n",
      "\n",
      "__init__(*args, **kwargs)\n",
      "    Initialize self.  See help(type(self)) for accurate signature.\n",
      "\n"
     ]
    }
   ],
   "source": [
    "help(tf.__init__)"
   ]
  },
  {
   "cell_type": "code",
   "execution_count": 6,
   "id": "29ed5c4e-3c7a-4108-8a2d-389af4816550",
   "metadata": {},
   "outputs": [],
   "source": [
    "import numpy as np"
   ]
  },
  {
   "cell_type": "code",
   "execution_count": 7,
   "id": "d747aba2-dbc3-4e31-85cf-baf832bcd4ed",
   "metadata": {},
   "outputs": [
    {
     "data": {
      "text/plain": [
       "<module 'numpy' from 'C:\\\\ProgramData\\\\anaconda3\\\\Lib\\\\site-packages\\\\numpy\\\\__init__.py'>"
      ]
     },
     "execution_count": 7,
     "metadata": {},
     "output_type": "execute_result"
    }
   ],
   "source": [
    "np\n"
   ]
  },
  {
   "cell_type": "markdown",
   "id": "40168901-9240-4c84-8616-fb593a918529",
   "metadata": {},
   "source": [
    "##### Create Tensor"
   ]
  },
  {
   "cell_type": "code",
   "execution_count": 42,
   "id": "dbf20dbb-1a6f-45b0-bee3-84ddd36c86d5",
   "metadata": {},
   "outputs": [],
   "source": [
    "a = tf.constant([1,2,3,4])\n",
    "b = tf.constant([5,6,7,8])"
   ]
  },
  {
   "cell_type": "code",
   "execution_count": 43,
   "id": "37aae5fc-1b85-4ed5-97e9-19bd3fca0c89",
   "metadata": {},
   "outputs": [
    {
     "name": "stdout",
     "output_type": "stream",
     "text": [
      "Tesnor a: tf.Tensor([1 2 3 4], shape=(4,), dtype=int32)\n",
      "Tesnor b: tf.Tensor([5 6 7 8], shape=(4,), dtype=int32)\n"
     ]
    }
   ],
   "source": [
    "print(\"Tesnor a:\", a)\n",
    "print(\"Tesnor b:\", b)"
   ]
  },
  {
   "cell_type": "code",
   "execution_count": 44,
   "id": "2aeb7611-013a-4c21-b953-c89ef6d933f7",
   "metadata": {},
   "outputs": [
    {
     "data": {
      "text/plain": [
       "<tf.Tensor: shape=(2, 2, 2, 3), dtype=int32, numpy=\n",
       "array([[[[1, 2, 5],\n",
       "         [3, 4, 5]],\n",
       "\n",
       "        [[1, 2, 5],\n",
       "         [3, 4, 5]]],\n",
       "\n",
       "\n",
       "       [[[1, 2, 5],\n",
       "         [3, 4, 5]],\n",
       "\n",
       "        [[1, 2, 5],\n",
       "         [3, 4, 5]]]])>"
      ]
     },
     "execution_count": 44,
     "metadata": {},
     "output_type": "execute_result"
    }
   ],
   "source": [
    "a2 = tf.constant([[[[1,2,5],[3,4,5]],[[1,2,5],[3,4,5]]],[[[1,2,5],[3,4,5]],[[1,2,5],[3,4,5]]]])\n",
    "a2"
   ]
  },
  {
   "cell_type": "code",
   "execution_count": 45,
   "id": "23ad3acc-4efe-4751-a2a2-2bb3c7d6abc7",
   "metadata": {},
   "outputs": [
    {
     "data": {
      "text/plain": [
       "<tf.Tensor: shape=(2, 2, 2, 3), dtype=int32, numpy=\n",
       "array([[[[ 2,  4, 10],\n",
       "         [ 6,  8, 10]],\n",
       "\n",
       "        [[ 2,  4, 10],\n",
       "         [ 6,  8, 10]]],\n",
       "\n",
       "\n",
       "       [[[ 2,  4, 10],\n",
       "         [ 6,  8, 10]],\n",
       "\n",
       "        [[ 2,  4, 10],\n",
       "         [ 6,  8, 10]]]])>"
      ]
     },
     "execution_count": 45,
     "metadata": {},
     "output_type": "execute_result"
    }
   ],
   "source": [
    "2*a2"
   ]
  },
  {
   "cell_type": "code",
   "execution_count": 46,
   "id": "4b335099-06da-4583-a7ff-6982b28b0d83",
   "metadata": {},
   "outputs": [
    {
     "data": {
      "text/plain": [
       "array([[[[1, 2, 5],\n",
       "         [3, 4, 5]],\n",
       "\n",
       "        [[1, 2, 5],\n",
       "         [3, 4, 5]]],\n",
       "\n",
       "\n",
       "       [[[1, 2, 5],\n",
       "         [3, 4, 5]],\n",
       "\n",
       "        [[1, 2, 5],\n",
       "         [3, 4, 5]]]])"
      ]
     },
     "execution_count": 46,
     "metadata": {},
     "output_type": "execute_result"
    }
   ],
   "source": [
    "a2.numpy()"
   ]
  },
  {
   "cell_type": "code",
   "execution_count": 50,
   "id": "614fc2e6-634a-4d85-ab91-7054a250b8bb",
   "metadata": {},
   "outputs": [],
   "source": [
    "a = tf.constant([1,2,3,16])\n",
    "b = tf.constant([5,6,7,8])"
   ]
  },
  {
   "cell_type": "code",
   "execution_count": 51,
   "id": "42f80fae-cc5e-41b8-90d3-9742f193ed6e",
   "metadata": {},
   "outputs": [
    {
     "name": "stdout",
     "output_type": "stream",
     "text": [
      "tf.Tensor([-4 -4 -4  8], shape=(4,), dtype=int32)\n"
     ]
    }
   ],
   "source": [
    "d = tf.subtract(a,b)\n",
    "print(d)"
   ]
  },
  {
   "cell_type": "code",
   "execution_count": 58,
   "id": "59854e18-2ed6-45df-b6bd-a714a6d7fde4",
   "metadata": {},
   "outputs": [
    {
     "data": {
      "text/plain": [
       "<tf.Tensor: shape=(4,), dtype=float64, numpy=array([0.2       , 0.33333333, 0.42857143, 2.        ])>"
      ]
     },
     "execution_count": 58,
     "metadata": {},
     "output_type": "execute_result"
    }
   ],
   "source": [
    "a/b"
   ]
  },
  {
   "cell_type": "code",
   "execution_count": 59,
   "id": "3f11d62a-1155-4180-983c-873610b4ceb7",
   "metadata": {},
   "outputs": [
    {
     "data": {
      "text/plain": [
       "<tf.Tensor: shape=(4,), dtype=int32, numpy=array([0, 0, 0, 2])>"
      ]
     },
     "execution_count": 59,
     "metadata": {},
     "output_type": "execute_result"
    }
   ],
   "source": [
    "a//b"
   ]
  },
  {
   "cell_type": "code",
   "execution_count": 57,
   "id": "24500df3-b66a-4be3-8f98-6fa0a4e447a7",
   "metadata": {},
   "outputs": [
    {
     "data": {
      "text/plain": [
       "int"
      ]
     },
     "execution_count": 57,
     "metadata": {},
     "output_type": "execute_result"
    }
   ],
   "source": [
    "type(8//2)"
   ]
  },
  {
   "cell_type": "code",
   "execution_count": 65,
   "id": "38765b38-f120-46ea-866a-73be31fbfb0f",
   "metadata": {},
   "outputs": [
    {
     "data": {
      "text/plain": [
       "array([[ 19,  22],\n",
       "       [127, 146]])"
      ]
     },
     "execution_count": 65,
     "metadata": {},
     "output_type": "execute_result"
    }
   ],
   "source": [
    "c = tf.constant([[1,2],[3,16]])\n",
    "d = tf.constant([[5,6],[7,8]])\n",
    "(tf.matmul(c,d)).numpy()"
   ]
  },
  {
   "cell_type": "code",
   "execution_count": 67,
   "id": "10414015-f14e-4593-bf9b-23e6edf43632",
   "metadata": {},
   "outputs": [
    {
     "name": "stdout",
     "output_type": "stream",
     "text": [
      "<dtype: 'int32'>\n"
     ]
    }
   ],
   "source": [
    "print(c.dtype)"
   ]
  },
  {
   "cell_type": "code",
   "execution_count": null,
   "id": "385770cd-cca5-4290-a912-981995d9b989",
   "metadata": {},
   "outputs": [],
   "source": []
  }
 ],
 "metadata": {
  "kernelspec": {
   "display_name": "Python 3 (ipykernel)",
   "language": "python",
   "name": "python3"
  },
  "language_info": {
   "codemirror_mode": {
    "name": "ipython",
    "version": 3
   },
   "file_extension": ".py",
   "mimetype": "text/x-python",
   "name": "python",
   "nbconvert_exporter": "python",
   "pygments_lexer": "ipython3",
   "version": "3.11.7"
  }
 },
 "nbformat": 4,
 "nbformat_minor": 5
}
