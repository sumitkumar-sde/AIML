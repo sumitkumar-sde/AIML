{
 "cells": [
  {
   "cell_type": "markdown",
   "id": "dd4a3cd3-728c-4214-a0b0-e2e4e020be67",
   "metadata": {},
   "source": [
    "#### Image Inpainting\n"
   ]
  },
  {
   "cell_type": "code",
   "execution_count": 60,
   "id": "56e2101f-ad96-4121-862e-8c51f4485b42",
   "metadata": {},
   "outputs": [],
   "source": [
    "import cv2\n",
    "import matplotlib.pyplot as plt\n",
    "import numpy as np"
   ]
  },
  {
   "cell_type": "code",
   "execution_count": 61,
   "id": "adc36df8-1d5b-452c-9592-0a80b5d1958a",
   "metadata": {},
   "outputs": [],
   "source": [
    "img = cv2.imread('images/cat_damaged.png')"
   ]
  },
  {
   "cell_type": "code",
   "execution_count": 62,
   "id": "11346906-e5d8-4bd3-9bc8-cbfb71d97533",
   "metadata": {},
   "outputs": [
    {
     "data": {
      "text/plain": [
       "(400, 400)"
      ]
     },
     "execution_count": 62,
     "metadata": {},
     "output_type": "execute_result"
    }
   ],
   "source": [
    "height, width = img.shape[0], img.shape[1]\n",
    "height, width"
   ]
  },
  {
   "cell_type": "code",
   "execution_count": 63,
   "id": "93cd75d8-e80e-4890-885b-1abba4620854",
   "metadata": {},
   "outputs": [],
   "source": [
    "mask = np.zeros([height, width, 3], dtype =np.uint8)"
   ]
  },
  {
   "cell_type": "code",
   "execution_count": 64,
   "id": "9c550b54-b83f-4333-963a-0efe9911cc71",
   "metadata": {},
   "outputs": [],
   "source": [
    "for i in range(height):\n",
    "    for j in range(width):\n",
    "        if img[i,j].sum() == 0:\n",
    "            mask[i,j]=[255,255,255]\n"
   ]
  },
  {
   "cell_type": "code",
   "execution_count": 65,
   "id": "01315a7c-1326-4cb2-8fbb-10c60ed0e7c2",
   "metadata": {},
   "outputs": [],
   "source": [
    "mask = cv2.cvtColor(mask, cv2.COLOR_BGR2GRAY)"
   ]
  },
  {
   "cell_type": "code",
   "execution_count": 66,
   "id": "a8fc2251-4196-45f3-8128-f07bcb3ffd07",
   "metadata": {},
   "outputs": [],
   "source": [
    "inp = cv2.inpaint(img, mask, 3, cv2.INPAINT_NS)"
   ]
  },
  {
   "cell_type": "code",
   "execution_count": 67,
   "id": "fc711e49-11de-4745-b994-5010b9df0e26",
   "metadata": {},
   "outputs": [],
   "source": [
    "cv2.imshow(\"CAT Demeged\", inp)\n",
    "cv2.waitKey(0)\n",
    "cv2.destroyAllWindows()"
   ]
  },
  {
   "cell_type": "code",
   "execution_count": null,
   "id": "81fc7d0b-5d35-46af-8c2d-974d79d9247f",
   "metadata": {},
   "outputs": [],
   "source": []
  }
 ],
 "metadata": {
  "kernelspec": {
   "display_name": "Python 3 (ipykernel)",
   "language": "python",
   "name": "python3"
  },
  "language_info": {
   "codemirror_mode": {
    "name": "ipython",
    "version": 3
   },
   "file_extension": ".py",
   "mimetype": "text/x-python",
   "name": "python",
   "nbconvert_exporter": "python",
   "pygments_lexer": "ipython3",
   "version": "3.11.7"
  }
 },
 "nbformat": 4,
 "nbformat_minor": 5
}
