{
 "cells": [
  {
   "cell_type": "code",
   "execution_count": 9,
   "id": "dbb6acf8-a95f-4e77-994e-901e80f427fa",
   "metadata": {
    "scrolled": true
   },
   "outputs": [
    {
     "name": "stdout",
     "output_type": "stream",
     "text": [
      "Hello World\n"
     ]
    }
   ],
   "source": [
    "print(\"Hello World\")"
   ]
  },
  {
   "cell_type": "code",
   "execution_count": null,
   "id": "9ee5646a-9ed4-4a59-982c-e5935771287a",
   "metadata": {},
   "outputs": [],
   "source": []
  },
  {
   "cell_type": "markdown",
   "id": "12c7bac5-f7a6-42ef-ad75-26374e285b70",
   "metadata": {},
   "source": [
    "##### Python Code for Temperature Cel to Far"
   ]
  },
  {
   "cell_type": "code",
   "execution_count": 18,
   "id": "3b7af55b-24c5-4c78-919d-4127a97d3b87",
   "metadata": {},
   "outputs": [
    {
     "name": "stdin",
     "output_type": "stream",
     "text": [
      "Please Enter Temperature in C = 40\n"
     ]
    },
    {
     "name": "stdout",
     "output_type": "stream",
     "text": [
      "Temperature in F = 104.0\n"
     ]
    }
   ],
   "source": [
    "tem_cel = float(input(\"Please Enter Temperature in C =\"))\n",
    "tem_far = (tem_cel*1.8)+ 32\n",
    "print(\"Temperature in F =\",tem_far)"
   ]
  },
  {
   "cell_type": "markdown",
   "id": "5537b129-a451-4e69-abb4-7f4a713a030d",
   "metadata": {},
   "source": [
    "##### IfElse"
   ]
  },
  {
   "cell_type": "code",
   "execution_count": 22,
   "id": "8aa4d282-778c-49df-8a59-9b838ab51ecc",
   "metadata": {},
   "outputs": [
    {
     "name": "stdin",
     "output_type": "stream",
     "text": [
      "Please Enter a Number =  0\n"
     ]
    },
    {
     "name": "stdout",
     "output_type": "stream",
     "text": [
      "Zero\n"
     ]
    }
   ],
   "source": [
    "numb = float(input(\"Please Enter a Number = \"))\n",
    "if(numb < 0):\n",
    "    print(\"Negetive\")\n",
    "elif (numb == 0):\n",
    "    print(\"Zero\")\n",
    "else:\n",
    "    print(\"Positive\")\n",
    "            "
   ]
  },
  {
   "cell_type": "markdown",
   "id": "ce676dfc-b45d-4a50-8c5d-f0556d0d0ee5",
   "metadata": {},
   "source": [
    "##### Loops"
   ]
  },
  {
   "cell_type": "code",
   "execution_count": 23,
   "id": "ec9736d3-2901-41c9-9f18-8dd1a9028bd9",
   "metadata": {},
   "outputs": [
    {
     "name": "stdout",
     "output_type": "stream",
     "text": [
      "Sumit\n",
      "Sumit\n",
      "Sumit\n",
      "Sumit\n",
      "Sumit\n",
      "Sumit\n",
      "Sumit\n",
      "Sumit\n",
      "Sumit\n",
      "Sumit\n"
     ]
    }
   ],
   "source": [
    "count = 0\n",
    "while count < 10:\n",
    "    print(\"Sumit\")\n",
    "    count +=1"
   ]
  },
  {
   "cell_type": "code",
   "execution_count": 24,
   "id": "83716a54-464b-4ff7-8221-4b3384759fbb",
   "metadata": {},
   "outputs": [
    {
     "name": "stdout",
     "output_type": "stream",
     "text": [
      "55\n",
      "34\n",
      "435\n",
      "345\n"
     ]
    }
   ],
   "source": [
    "for i in 55,34,435,345:\n",
    "    print(i)"
   ]
  },
  {
   "cell_type": "code",
   "execution_count": 27,
   "id": "fbf8fc4c-1b6b-47ef-b680-8c4d6e6951a3",
   "metadata": {},
   "outputs": [
    {
     "name": "stdout",
     "output_type": "stream",
     "text": [
      "PPPPPPPPPP\n",
      "UUUUUUUUUU\n",
      "NNNNNNNNNN\n",
      "EEEEEEEEEE\n"
     ]
    }
   ],
   "source": [
    "for i in 'PUNE':\n",
    "    print(i*10)"
   ]
  },
  {
   "cell_type": "code",
   "execution_count": 36,
   "id": "2071844a-7703-49e1-ac8b-89c49526f01f",
   "metadata": {},
   "outputs": [
    {
     "name": "stdout",
     "output_type": "stream",
     "text": [
      "100\n"
     ]
    }
   ],
   "source": [
    "for x in range(10,20,2):\n",
    "    if x==10:\n",
    "        print(x*x)"
   ]
  },
  {
   "cell_type": "markdown",
   "id": "619427b1-6c3a-4995-989a-a32fbcceeae8",
   "metadata": {},
   "source": [
    "#### Function"
   ]
  },
  {
   "cell_type": "code",
   "execution_count": 43,
   "id": "7bf2c319-25d3-4f99-b4e0-e7b12ea53ed6",
   "metadata": {},
   "outputs": [
    {
     "name": "stdout",
     "output_type": "stream",
     "text": [
      "(16, 64)\n"
     ]
    }
   ],
   "source": [
    "def square(num):\n",
    "    return num*num, num **3\n",
    "print(square(4))"
   ]
  },
  {
   "cell_type": "code",
   "execution_count": 51,
   "id": "43981e6b-ed35-4435-90db-e9d99a092154",
   "metadata": {},
   "outputs": [],
   "source": [
    "num1 = [10,23,34,54]"
   ]
  },
  {
   "cell_type": "code",
   "execution_count": 52,
   "id": "7bd7ea39-44eb-44ee-9c13-37a4ee582320",
   "metadata": {},
   "outputs": [
    {
     "data": {
      "text/plain": [
       "list"
      ]
     },
     "execution_count": 52,
     "metadata": {},
     "output_type": "execute_result"
    }
   ],
   "source": [
    "type(num1)"
   ]
  },
  {
   "cell_type": "code",
   "execution_count": 53,
   "id": "92a33124-42dc-46d2-9fb4-53ed91e38304",
   "metadata": {},
   "outputs": [
    {
     "data": {
      "text/plain": [
       "tuple"
      ]
     },
     "execution_count": 53,
     "metadata": {},
     "output_type": "execute_result"
    }
   ],
   "source": [
    "num2 = (32,23,2,32,2)\n",
    "type(num2)"
   ]
  },
  {
   "cell_type": "code",
   "execution_count": 68,
   "id": "f849198a-e82d-4c8c-a0c6-dcf18021602e",
   "metadata": {},
   "outputs": [
    {
     "data": {
      "text/plain": [
       "False"
      ]
     },
     "execution_count": 68,
     "metadata": {},
     "output_type": "execute_result"
    }
   ],
   "source": [
    "num2[0] == 19"
   ]
  },
  {
   "cell_type": "code",
   "execution_count": 69,
   "id": "58dcb5cb-e887-489c-b153-a5a3c403fd99",
   "metadata": {},
   "outputs": [
    {
     "data": {
      "text/plain": [
       "{1, 12}"
      ]
     },
     "execution_count": 69,
     "metadata": {},
     "output_type": "execute_result"
    }
   ],
   "source": [
    "num3 = {12,12,12,1}\n",
    "num3"
   ]
  },
  {
   "cell_type": "code",
   "execution_count": 85,
   "id": "df6a09b1-d7a0-46a4-8777-8805d0dc5779",
   "metadata": {},
   "outputs": [
    {
     "name": "stdout",
     "output_type": "stream",
     "text": [
      "1\n",
      "3\n"
     ]
    }
   ],
   "source": [
    "d = {1:34, 3:1}\n",
    "type(d)\n",
    "for i in d.keys():\n",
    "    print(i)\n"
   ]
  },
  {
   "cell_type": "code",
   "execution_count": 76,
   "id": "cf5ab042-5451-4fcf-8140-9ed7126eb347",
   "metadata": {},
   "outputs": [
    {
     "data": {
      "text/plain": [
       "[]"
      ]
     },
     "execution_count": 76,
     "metadata": {},
     "output_type": "execute_result"
    }
   ],
   "source": [
    "num1.\n",
    "num1"
   ]
  },
  {
   "cell_type": "code",
   "execution_count": 73,
   "id": "a1868e1d-7ccc-4089-a94f-a6bdb8bd0b25",
   "metadata": {},
   "outputs": [
    {
     "data": {
      "text/plain": [
       "[10, 23, 34, 54]"
      ]
     },
     "execution_count": 73,
     "metadata": {},
     "output_type": "execute_result"
    }
   ],
   "source": []
  },
  {
   "cell_type": "code",
   "execution_count": 98,
   "id": "9d3cdc00-8da6-4bcc-ab54-52217af71848",
   "metadata": {},
   "outputs": [
    {
     "name": "stdout",
     "output_type": "stream",
     "text": [
      "Value are:\n",
      "10 20\n"
     ]
    }
   ],
   "source": [
    "class person:\n",
    "    def __init__(this,x=10,y=20):\n",
    "        this.name = x\n",
    "        this.age = y\n",
    "        idc = 10\n",
    "    def show(this):\n",
    "        print(\"Value are:\")\n",
    "        print(this.name, this.age)\n",
    "sum = person()\n",
    "sum.show()"
   ]
  },
  {
   "cell_type": "code",
   "execution_count": 106,
   "id": "eeaee312-c38a-407e-8632-6e99d3c65403",
   "metadata": {},
   "outputs": [
    {
     "data": {
      "text/plain": [
       "1.0954451150103321"
      ]
     },
     "execution_count": 106,
     "metadata": {},
     "output_type": "execute_result"
    }
   ],
   "source": [
    "import math as m\n",
    "math.sqrt(1.2)"
   ]
  },
  {
   "cell_type": "code",
   "execution_count": 108,
   "id": "bb109e8a-0b6b-4daf-a449-df2396900989",
   "metadata": {},
   "outputs": [
    {
     "data": {
      "text/plain": [
       "0.8414709848078965"
      ]
     },
     "execution_count": 108,
     "metadata": {},
     "output_type": "execute_result"
    }
   ],
   "source": [
    "m.sin(1)"
   ]
  },
  {
   "cell_type": "code",
   "execution_count": 109,
   "id": "d8a80c56-d0aa-4a38-8923-8b2a0a3d8d8c",
   "metadata": {},
   "outputs": [
    {
     "data": {
      "text/plain": [
       "2.718281828459045"
      ]
     },
     "execution_count": 109,
     "metadata": {},
     "output_type": "execute_result"
    }
   ],
   "source": [
    "m.e"
   ]
  },
  {
   "cell_type": "code",
   "execution_count": 110,
   "id": "7d5d371b-2826-4882-a432-4cf4f8f2a78a",
   "metadata": {},
   "outputs": [
    {
     "data": {
      "text/plain": [
       "3.141592653589793"
      ]
     },
     "execution_count": 110,
     "metadata": {},
     "output_type": "execute_result"
    }
   ],
   "source": [
    "from math import sqrt, pi\n",
    "pi"
   ]
  },
  {
   "cell_type": "code",
   "execution_count": 111,
   "id": "7ba3af4f-2291-4ae3-ba22-461f2c74ecc1",
   "metadata": {},
   "outputs": [
    {
     "name": "stdout",
     "output_type": "stream",
     "text": [
      "Help on float object:\n",
      "\n",
      "class float(object)\n",
      " |  float(x=0, /)\n",
      " |  \n",
      " |  Convert a string or number to a floating point number, if possible.\n",
      " |  \n",
      " |  Methods defined here:\n",
      " |  \n",
      " |  __abs__(self, /)\n",
      " |      abs(self)\n",
      " |  \n",
      " |  __add__(self, value, /)\n",
      " |      Return self+value.\n",
      " |  \n",
      " |  __bool__(self, /)\n",
      " |      True if self else False\n",
      " |  \n",
      " |  __ceil__(self, /)\n",
      " |      Return the ceiling as an Integral.\n",
      " |  \n",
      " |  __divmod__(self, value, /)\n",
      " |      Return divmod(self, value).\n",
      " |  \n",
      " |  __eq__(self, value, /)\n",
      " |      Return self==value.\n",
      " |  \n",
      " |  __float__(self, /)\n",
      " |      float(self)\n",
      " |  \n",
      " |  __floor__(self, /)\n",
      " |      Return the floor as an Integral.\n",
      " |  \n",
      " |  __floordiv__(self, value, /)\n",
      " |      Return self//value.\n",
      " |  \n",
      " |  __format__(self, format_spec, /)\n",
      " |      Formats the float according to format_spec.\n",
      " |  \n",
      " |  __ge__(self, value, /)\n",
      " |      Return self>=value.\n",
      " |  \n",
      " |  __getattribute__(self, name, /)\n",
      " |      Return getattr(self, name).\n",
      " |  \n",
      " |  __getnewargs__(self, /)\n",
      " |  \n",
      " |  __gt__(self, value, /)\n",
      " |      Return self>value.\n",
      " |  \n",
      " |  __hash__(self, /)\n",
      " |      Return hash(self).\n",
      " |  \n",
      " |  __int__(self, /)\n",
      " |      int(self)\n",
      " |  \n",
      " |  __le__(self, value, /)\n",
      " |      Return self<=value.\n",
      " |  \n",
      " |  __lt__(self, value, /)\n",
      " |      Return self<value.\n",
      " |  \n",
      " |  __mod__(self, value, /)\n",
      " |      Return self%value.\n",
      " |  \n",
      " |  __mul__(self, value, /)\n",
      " |      Return self*value.\n",
      " |  \n",
      " |  __ne__(self, value, /)\n",
      " |      Return self!=value.\n",
      " |  \n",
      " |  __neg__(self, /)\n",
      " |      -self\n",
      " |  \n",
      " |  __pos__(self, /)\n",
      " |      +self\n",
      " |  \n",
      " |  __pow__(self, value, mod=None, /)\n",
      " |      Return pow(self, value, mod).\n",
      " |  \n",
      " |  __radd__(self, value, /)\n",
      " |      Return value+self.\n",
      " |  \n",
      " |  __rdivmod__(self, value, /)\n",
      " |      Return divmod(value, self).\n",
      " |  \n",
      " |  __repr__(self, /)\n",
      " |      Return repr(self).\n",
      " |  \n",
      " |  __rfloordiv__(self, value, /)\n",
      " |      Return value//self.\n",
      " |  \n",
      " |  __rmod__(self, value, /)\n",
      " |      Return value%self.\n",
      " |  \n",
      " |  __rmul__(self, value, /)\n",
      " |      Return value*self.\n",
      " |  \n",
      " |  __round__(self, ndigits=None, /)\n",
      " |      Return the Integral closest to x, rounding half toward even.\n",
      " |      \n",
      " |      When an argument is passed, work like built-in round(x, ndigits).\n",
      " |  \n",
      " |  __rpow__(self, value, mod=None, /)\n",
      " |      Return pow(value, self, mod).\n",
      " |  \n",
      " |  __rsub__(self, value, /)\n",
      " |      Return value-self.\n",
      " |  \n",
      " |  __rtruediv__(self, value, /)\n",
      " |      Return value/self.\n",
      " |  \n",
      " |  __sub__(self, value, /)\n",
      " |      Return self-value.\n",
      " |  \n",
      " |  __truediv__(self, value, /)\n",
      " |      Return self/value.\n",
      " |  \n",
      " |  __trunc__(self, /)\n",
      " |      Return the Integral closest to x between 0 and x.\n",
      " |  \n",
      " |  as_integer_ratio(self, /)\n",
      " |      Return integer ratio.\n",
      " |      \n",
      " |      Return a pair of integers, whose ratio is exactly equal to the original float\n",
      " |      and with a positive denominator.\n",
      " |      \n",
      " |      Raise OverflowError on infinities and a ValueError on NaNs.\n",
      " |      \n",
      " |      >>> (10.0).as_integer_ratio()\n",
      " |      (10, 1)\n",
      " |      >>> (0.0).as_integer_ratio()\n",
      " |      (0, 1)\n",
      " |      >>> (-.25).as_integer_ratio()\n",
      " |      (-1, 4)\n",
      " |  \n",
      " |  conjugate(self, /)\n",
      " |      Return self, the complex conjugate of any float.\n",
      " |  \n",
      " |  hex(self, /)\n",
      " |      Return a hexadecimal representation of a floating-point number.\n",
      " |      \n",
      " |      >>> (-0.1).hex()\n",
      " |      '-0x1.999999999999ap-4'\n",
      " |      >>> 3.14159.hex()\n",
      " |      '0x1.921f9f01b866ep+1'\n",
      " |  \n",
      " |  is_integer(self, /)\n",
      " |      Return True if the float is an integer.\n",
      " |  \n",
      " |  ----------------------------------------------------------------------\n",
      " |  Class methods defined here:\n",
      " |  \n",
      " |  __getformat__(typestr, /) from builtins.type\n",
      " |      You probably don't want to use this function.\n",
      " |      \n",
      " |        typestr\n",
      " |          Must be 'double' or 'float'.\n",
      " |      \n",
      " |      It exists mainly to be used in Python's test suite.\n",
      " |      \n",
      " |      This function returns whichever of 'unknown', 'IEEE, big-endian' or 'IEEE,\n",
      " |      little-endian' best describes the format of floating point numbers used by the\n",
      " |      C type named by typestr.\n",
      " |  \n",
      " |  fromhex(string, /) from builtins.type\n",
      " |      Create a floating-point number from a hexadecimal string.\n",
      " |      \n",
      " |      >>> float.fromhex('0x1.ffffp10')\n",
      " |      2047.984375\n",
      " |      >>> float.fromhex('-0x1p-1074')\n",
      " |      -5e-324\n",
      " |  \n",
      " |  ----------------------------------------------------------------------\n",
      " |  Static methods defined here:\n",
      " |  \n",
      " |  __new__(*args, **kwargs) from builtins.type\n",
      " |      Create and return a new object.  See help(type) for accurate signature.\n",
      " |  \n",
      " |  ----------------------------------------------------------------------\n",
      " |  Data descriptors defined here:\n",
      " |  \n",
      " |  imag\n",
      " |      the imaginary part of a complex number\n",
      " |  \n",
      " |  real\n",
      " |      the real part of a complex number\n",
      "\n"
     ]
    }
   ],
   "source": [
    "help(pi)"
   ]
  },
  {
   "cell_type": "code",
   "execution_count": null,
   "id": "827e5807-f16c-45ed-b0c9-44b53bbaa04d",
   "metadata": {},
   "outputs": [],
   "source": []
  },
  {
   "cell_type": "code",
   "execution_count": null,
   "id": "bab16307-6df1-4b84-a5a5-e1de6b82f5f9",
   "metadata": {},
   "outputs": [],
   "source": []
  }
 ],
 "metadata": {
  "kernelspec": {
   "display_name": "Python 3 (ipykernel)",
   "language": "python",
   "name": "python3"
  },
  "language_info": {
   "codemirror_mode": {
    "name": "ipython",
    "version": 3
   },
   "file_extension": ".py",
   "mimetype": "text/x-python",
   "name": "python",
   "nbconvert_exporter": "python",
   "pygments_lexer": "ipython3",
   "version": "3.11.7"
  }
 },
 "nbformat": 4,
 "nbformat_minor": 5
}
