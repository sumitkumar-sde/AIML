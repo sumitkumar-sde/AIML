{
 "cells": [
  {
   "cell_type": "code",
   "execution_count": 1,
   "id": "64af6086-7886-4b0c-ae19-9ceaac6d326c",
   "metadata": {},
   "outputs": [],
   "source": [
    "import cv2\n",
    "import matplotlib.pyplot as plt\n",
    "import numpy as np"
   ]
  },
  {
   "cell_type": "code",
   "execution_count": 104,
   "id": "e4d9346e-a24e-4c3d-9472-89a4e1016f8b",
   "metadata": {},
   "outputs": [],
   "source": [
    "img = cv2.imread('images/he.jpg')\n",
    "gimg = cv2.cvtColor(img, cv2.COLOR_BGR2GRAY)"
   ]
  },
  {
   "cell_type": "code",
   "execution_count": 105,
   "id": "951d7209-55e5-4546-a1bf-89c3978113e3",
   "metadata": {},
   "outputs": [],
   "source": [
    "thresh = cv2.threshold(gimg, 127, 255, cv2.THRESH_BINARY)[1]"
   ]
  },
  {
   "cell_type": "code",
   "execution_count": 106,
   "id": "9007a682-6030-436a-8465-7630e918f749",
   "metadata": {},
   "outputs": [
    {
     "data": {
      "text/plain": [
       "array([[255, 255, 255, ..., 255, 255, 255],\n",
       "       [255, 255, 255, ..., 255, 255, 255],\n",
       "       [255, 255, 255, ..., 255, 255, 255],\n",
       "       ...,\n",
       "       [255, 255, 255, ..., 255, 255, 255],\n",
       "       [255, 255, 255, ..., 255, 255, 255],\n",
       "       [255, 255, 255, ..., 255, 255, 255]], dtype=uint8)"
      ]
     },
     "execution_count": 106,
     "metadata": {},
     "output_type": "execute_result"
    }
   ],
   "source": [
    "thresh"
   ]
  },
  {
   "cell_type": "code",
   "execution_count": 107,
   "id": "056400af-a280-48db-8687-d916f7f56c96",
   "metadata": {},
   "outputs": [],
   "source": [
    "contours, hierarchy =  cv2.findContours(thresh, cv2.RETR_TREE, cv2.CHAIN_APPROX_SIMPLE)"
   ]
  },
  {
   "cell_type": "code",
   "execution_count": 108,
   "id": "10e319b3-2069-4afa-9c41-596c42e5b9c0",
   "metadata": {},
   "outputs": [
    {
     "data": {
      "text/plain": [
       "array([[  0,   0,   0, ...,   0,   0,   0],\n",
       "       [  0,   0,   0, ...,   0,   0,   0],\n",
       "       [  0,   0, 218, ..., 255,   0,   0],\n",
       "       ...,\n",
       "       [  0,   0, 190, ..., 225,   0,   0],\n",
       "       [  0,   0,   0, ...,   0,   0,   0],\n",
       "       [  0,   0,   0, ...,   0,   0,   0]], dtype=uint8)"
      ]
     },
     "execution_count": 108,
     "metadata": {},
     "output_type": "execute_result"
    }
   ],
   "source": [
    "cv2.drawContours(gimg, contours, -1, (0, 255, 0), 2)"
   ]
  },
  {
   "cell_type": "code",
   "execution_count": 109,
   "id": "08399d51-2842-4d25-868f-09a17c196198",
   "metadata": {},
   "outputs": [],
   "source": [
    "cv2.imshow(\"Contours Image\", gimg)\n",
    "cv2.waitKey(0)\n",
    "cv2.destroyAllWindows()"
   ]
  },
  {
   "cell_type": "markdown",
   "id": "438ee304-ad6f-4138-9071-1cc3f880dd74",
   "metadata": {},
   "source": [
    "# Impend the Image"
   ]
  },
  {
   "cell_type": "code",
   "execution_count": 110,
   "id": "04dc13bb-1eda-441d-b627-f8f48666cd55",
   "metadata": {},
   "outputs": [],
   "source": [
    "img = cv2.imread('images/cat_damaged.png')"
   ]
  },
  {
   "cell_type": "code",
   "execution_count": null,
   "id": "5cdeff14-ff06-46f6-9b88-b0b4c259888a",
   "metadata": {},
   "outputs": [],
   "source": []
  }
 ],
 "metadata": {
  "kernelspec": {
   "display_name": "Python 3 (ipykernel)",
   "language": "python",
   "name": "python3"
  },
  "language_info": {
   "codemirror_mode": {
    "name": "ipython",
    "version": 3
   },
   "file_extension": ".py",
   "mimetype": "text/x-python",
   "name": "python",
   "nbconvert_exporter": "python",
   "pygments_lexer": "ipython3",
   "version": "3.11.7"
  }
 },
 "nbformat": 4,
 "nbformat_minor": 5
}
