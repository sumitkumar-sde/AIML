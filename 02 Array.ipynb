{
 "cells": [
  {
   "cell_type": "code",
   "execution_count": 1,
   "id": "ebfc6297-a8dd-4121-b684-4a64db023a39",
   "metadata": {},
   "outputs": [],
   "source": [
    "import numpy as np"
   ]
  },
  {
   "cell_type": "markdown",
   "id": "d6494023-0e95-45e1-8e49-5c3f1dc690a5",
   "metadata": {},
   "source": [
    "##### Create the Array"
   ]
  },
  {
   "cell_type": "code",
   "execution_count": 8,
   "id": "78347c45-4a2a-4aae-ba4f-e62781db9505",
   "metadata": {},
   "outputs": [],
   "source": [
    "x=np.array([2,3,4])"
   ]
  },
  {
   "cell_type": "code",
   "execution_count": 11,
   "id": "f5121c41-3a62-403f-98a2-50a8425ce578",
   "metadata": {},
   "outputs": [
    {
     "name": "stdout",
     "output_type": "stream",
     "text": [
      "[2 3 4]\n"
     ]
    }
   ],
   "source": [
    "print(x)"
   ]
  },
  {
   "cell_type": "code",
   "execution_count": 19,
   "id": "da371789-3175-4d30-99d1-80ccd525ffb6",
   "metadata": {},
   "outputs": [
    {
     "data": {
      "text/plain": [
       "dtype('int32')"
      ]
     },
     "execution_count": 19,
     "metadata": {},
     "output_type": "execute_result"
    }
   ],
   "source": [
    "x.dtype\n",
    "#x.ndim"
   ]
  },
  {
   "cell_type": "code",
   "execution_count": 49,
   "id": "c604457e-afa4-4d31-ab7d-0afb6a04012b",
   "metadata": {},
   "outputs": [
    {
     "data": {
      "text/plain": [
       "(1,)"
      ]
     },
     "execution_count": 49,
     "metadata": {},
     "output_type": "execute_result"
    }
   ],
   "source": [
    "a=5454**343\n",
    "y = np.array([a])\n",
    "y.shape"
   ]
  },
  {
   "cell_type": "code",
   "execution_count": 35,
   "id": "eafc8660-1778-43ac-af54-695d625e9375",
   "metadata": {},
   "outputs": [
    {
     "data": {
      "text/plain": [
       "4935041700137265938383713914579125422808272649877182654014460100468594469672261403924507460407935849542833683962637519959253004039427864485905020515371723870821095161688001082635609300882744648752922652911031642421277416684146754014155858165790392194208621250154100132049135059556288854392357176294898838304239780756924463543804864142635212169936028369191785692476787131876298149410297041962394979125473446208137994786283141824325016533408833579106374103581080991107378839725624526794081649967063245275833295551149794699872444525050673650025016736404788607852908286226721888305011513603286805634226573623404077587501944717315502158014341214608863366489845223692057749388048579726925086639876923904295146284852823320253595130106731404178376468303741220612853631206584396365296816145066916987026048428868127750028611823406753940426590620067095174961344642150749665203067237982785631360208530268205481579172018780400513970430072327846816177703527161683612403723753425356162568349199999449959428400601772117000535310742434382303352802369648489218362200882305780816970346609831438685691494329389911141677239303543623486334042336419603188852040942720655030707311123277583442450055639754541985782722208532840217610838384978417998983027061013085222048887712868405882074683201349086152228864"
      ]
     },
     "execution_count": 35,
     "metadata": {},
     "output_type": "execute_result"
    }
   ],
   "source": [
    "a"
   ]
  },
  {
   "cell_type": "code",
   "execution_count": 42,
   "id": "cc3d17aa-d83a-46a8-a4b9-861ec8ef499c",
   "metadata": {},
   "outputs": [
    {
     "data": {
      "text/plain": [
       "array([ 23,  34,  45, 206], dtype=uint8)"
      ]
     },
     "execution_count": 42,
     "metadata": {},
     "output_type": "execute_result"
    }
   ],
   "source": [
    "x=np.array([23,34,45,206],dtype = np.uint8)\n",
    "x"
   ]
  },
  {
   "cell_type": "code",
   "execution_count": 69,
   "id": "bc60d2d2-b26b-4ab3-b347-565b7ada9d0c",
   "metadata": {},
   "outputs": [
    {
     "data": {
      "text/plain": [
       "array([34, 36, {45.9}, True], dtype=object)"
      ]
     },
     "execution_count": 69,
     "metadata": {},
     "output_type": "execute_result"
    }
   ],
   "source": [
    "x=np.array([34,36,{45.9},True])\n",
    "x"
   ]
  },
  {
   "cell_type": "code",
   "execution_count": 54,
   "id": "10f94cbe-2862-4970-bcae-4263232b0607",
   "metadata": {},
   "outputs": [
    {
     "data": {
      "text/plain": [
       "29.200813344836817"
      ]
     },
     "execution_count": 54,
     "metadata": {},
     "output_type": "execute_result"
    }
   ],
   "source": [
    "x.std()\n"
   ]
  },
  {
   "cell_type": "code",
   "execution_count": 72,
   "id": "40ba8b10-2aef-488a-a2e4-57c85ea2e6cc",
   "metadata": {},
   "outputs": [
    {
     "data": {
      "text/plain": [
       "array([ 0.  ,  0.33,  0.66,  0.99,  1.32,  1.65,  1.98,  2.31,  2.64,\n",
       "        2.97,  3.3 ,  3.63,  3.96,  4.29,  4.62,  4.95,  5.28,  5.61,\n",
       "        5.94,  6.27,  6.6 ,  6.93,  7.26,  7.59,  7.92,  8.25,  8.58,\n",
       "        8.91,  9.24,  9.57,  9.9 , 10.23, 10.56, 10.89, 11.22, 11.55,\n",
       "       11.88, 12.21, 12.54, 12.87, 13.2 , 13.53, 13.86, 14.19, 14.52,\n",
       "       14.85, 15.18, 15.51, 15.84, 16.17, 16.5 , 16.83, 17.16, 17.49,\n",
       "       17.82, 18.15, 18.48, 18.81, 19.14, 19.47, 19.8 , 20.13, 20.46,\n",
       "       20.79, 21.12, 21.45, 21.78, 22.11, 22.44, 22.77, 23.1 , 23.43,\n",
       "       23.76, 24.09, 24.42, 24.75, 25.08, 25.41, 25.74, 26.07, 26.4 ,\n",
       "       26.73, 27.06, 27.39, 27.72, 28.05, 28.38, 28.71])"
      ]
     },
     "execution_count": 72,
     "metadata": {},
     "output_type": "execute_result"
    }
   ],
   "source": [
    "np.arange(0,29,0.33)\n"
   ]
  },
  {
   "cell_type": "code",
   "execution_count": 73,
   "id": "5dc3e24c-29a7-4614-ac2b-ff62526317b5",
   "metadata": {},
   "outputs": [
    {
     "data": {
      "text/plain": [
       "array([ 1.  ,  6.25, 11.5 , 16.75, 22.  ])"
      ]
     },
     "execution_count": 73,
     "metadata": {},
     "output_type": "execute_result"
    }
   ],
   "source": [
    "np.linspace(1,22,5)"
   ]
  },
  {
   "cell_type": "markdown",
   "id": "568bd9da-ca82-4802-89a4-befe9cb78a29",
   "metadata": {},
   "source": [
    "##### Array Operation"
   ]
  },
  {
   "cell_type": "code",
   "execution_count": 85,
   "id": "12a1c323-58ce-4529-a1cb-b634d395b41d",
   "metadata": {},
   "outputs": [],
   "source": [
    "numaray1 =np.array([23,34,43,23])\n",
    "numaray2 =np.array([0,3,0,0])\n"
   ]
  },
  {
   "cell_type": "code",
   "execution_count": 87,
   "id": "946f42ca-3bfb-4abf-9bab-004c34bae1dc",
   "metadata": {},
   "outputs": [
    {
     "data": {
      "text/plain": [
       "array([23, 37, 43, 23])"
      ]
     },
     "execution_count": 87,
     "metadata": {},
     "output_type": "execute_result"
    }
   ],
   "source": [
    "numaray1+numaray2\n"
   ]
  },
  {
   "cell_type": "code",
   "execution_count": 78,
   "id": "4aa111a7-cd84-4c14-b688-9c6cbf57233c",
   "metadata": {},
   "outputs": [],
   "source": [
    "one = np.ones(10)"
   ]
  },
  {
   "cell_type": "code",
   "execution_count": 80,
   "id": "d859995f-a350-4224-b543-e5c1f90391fb",
   "metadata": {},
   "outputs": [
    {
     "data": {
      "text/plain": [
       "array([3., 3., 3., 3., 3., 3., 3., 3., 3., 3.])"
      ]
     },
     "execution_count": 80,
     "metadata": {},
     "output_type": "execute_result"
    }
   ],
   "source": [
    "one*3"
   ]
  },
  {
   "cell_type": "markdown",
   "id": "456b9e02-9a7c-490f-bab7-ffe499fdca00",
   "metadata": {},
   "source": [
    "##### Matrix"
   ]
  },
  {
   "cell_type": "code",
   "execution_count": 101,
   "id": "8a541786-53e3-45ac-a15c-3e7001584113",
   "metadata": {},
   "outputs": [],
   "source": [
    "mat = np.array([[34,14,54,64],[84,34.4,44,24],[34,23,2,12]])"
   ]
  },
  {
   "cell_type": "code",
   "execution_count": 102,
   "id": "12794d56-e8bc-4b9f-8def-040ab657b12b",
   "metadata": {},
   "outputs": [
    {
     "data": {
      "text/plain": [
       "array([[34. , 14. , 54. , 64. ],\n",
       "       [84. , 34.4, 44. , 24. ],\n",
       "       [34. , 23. ,  2. , 12. ]])"
      ]
     },
     "execution_count": 102,
     "metadata": {},
     "output_type": "execute_result"
    }
   ],
   "source": [
    "mat"
   ]
  },
  {
   "cell_type": "code",
   "execution_count": 103,
   "id": "1dd71952-5ef8-48bb-8d8c-5de537890552",
   "metadata": {},
   "outputs": [
    {
     "data": {
      "text/plain": [
       "dtype('float64')"
      ]
     },
     "execution_count": 103,
     "metadata": {},
     "output_type": "execute_result"
    }
   ],
   "source": [
    "\n",
    "\n",
    "\n",
    "mat.dtype"
   ]
  },
  {
   "cell_type": "code",
   "execution_count": 104,
   "id": "e098b8e8-f39f-446e-84b6-60593fbe1bd3",
   "metadata": {},
   "outputs": [
    {
     "data": {
      "text/plain": [
       "2"
      ]
     },
     "execution_count": 104,
     "metadata": {},
     "output_type": "execute_result"
    }
   ],
   "source": [
    "mat.ndim"
   ]
  },
  {
   "cell_type": "code",
   "execution_count": 105,
   "id": "399bace7-d74d-4d15-b3ff-388033bc5d73",
   "metadata": {},
   "outputs": [
    {
     "data": {
      "text/plain": [
       "12"
      ]
     },
     "execution_count": 105,
     "metadata": {},
     "output_type": "execute_result"
    }
   ],
   "source": [
    "mat.size"
   ]
  },
  {
   "cell_type": "code",
   "execution_count": 106,
   "id": "6638bd18-8e8d-4566-b778-7c35c7eea50c",
   "metadata": {},
   "outputs": [
    {
     "data": {
      "text/plain": [
       "(3, 4)"
      ]
     },
     "execution_count": 106,
     "metadata": {},
     "output_type": "execute_result"
    }
   ],
   "source": [
    "mat.shape"
   ]
  },
  {
   "cell_type": "code",
   "execution_count": 107,
   "id": "1bb0a6ba-c082-44c0-807f-707ab7e30fba",
   "metadata": {},
   "outputs": [
    {
     "data": {
      "text/plain": [
       "64.0"
      ]
     },
     "execution_count": 107,
     "metadata": {},
     "output_type": "execute_result"
    }
   ],
   "source": [
    "mat[0,3]"
   ]
  },
  {
   "cell_type": "code",
   "execution_count": 115,
   "id": "19253706-76bf-424a-bf11-72d3bca2e927",
   "metadata": {},
   "outputs": [
    {
     "data": {
      "text/plain": [
       "array([[84. , 34.4],\n",
       "       [34. , 23. ]])"
      ]
     },
     "execution_count": 115,
     "metadata": {},
     "output_type": "execute_result"
    }
   ],
   "source": [
    "mat[1:3,0:2]"
   ]
  },
  {
   "cell_type": "code",
   "execution_count": 112,
   "id": "d9027f53-454e-4d0f-92d8-97ff1394fd46",
   "metadata": {},
   "outputs": [
    {
     "name": "stdout",
     "output_type": "stream",
     "text": [
      "[[84.  34.4 44. ]]\n"
     ]
    }
   ],
   "source": [
    "print(mat[1:2,0:3])"
   ]
  },
  {
   "cell_type": "code",
   "execution_count": 123,
   "id": "9f790082-65b3-4d64-922a-015d6adb6634",
   "metadata": {},
   "outputs": [
    {
     "data": {
      "text/plain": [
       "array([[34., 14., 54., 64.],\n",
       "       [ 3.,  4., 44., 24.],\n",
       "       [ 6.,  5.,  2., 12.]])"
      ]
     },
     "execution_count": 123,
     "metadata": {},
     "output_type": "execute_result"
    }
   ],
   "source": [
    "m2=mat.reshape(-1)\n",
    "mat"
   ]
  },
  {
   "cell_type": "code",
   "execution_count": 118,
   "id": "9dcc0126-5279-41c1-a38e-b0026107ff18",
   "metadata": {},
   "outputs": [
    {
     "data": {
      "text/plain": [
       "array([[34., 14., 54., 64.],\n",
       "       [ 3.,  4., 44., 24.],\n",
       "       [ 6.,  5.,  2., 12.]])"
      ]
     },
     "execution_count": 118,
     "metadata": {},
     "output_type": "execute_result"
    }
   ],
   "source": [
    "mat[1:3,0:2] = np.array([[3,4],[6,5]])\n",
    "mat"
   ]
  },
  {
   "cell_type": "code",
   "execution_count": 124,
   "id": "eb8e0a65-47c5-496e-aa00-58898b888f95",
   "metadata": {},
   "outputs": [
    {
     "data": {
      "text/plain": [
       "array([[34.,  3.,  6.],\n",
       "       [14.,  4.,  5.],\n",
       "       [54., 44.,  2.],\n",
       "       [64., 24., 12.]])"
      ]
     },
     "execution_count": 124,
     "metadata": {},
     "output_type": "execute_result"
    }
   ],
   "source": [
    "mat.T"
   ]
  },
  {
   "cell_type": "code",
   "execution_count": 126,
   "id": "63d2afa0-606f-4c3b-839a-c34cebabef09",
   "metadata": {},
   "outputs": [
    {
     "data": {
      "text/plain": [
       "array([34., 14., 54., 64.])"
      ]
     },
     "execution_count": 126,
     "metadata": {},
     "output_type": "execute_result"
    }
   ],
   "source": [
    "mat.max(axis=0)"
   ]
  },
  {
   "cell_type": "code",
   "execution_count": 135,
   "id": "649a7623-81e6-4561-8a3f-f6a0fe8e7cf3",
   "metadata": {},
   "outputs": [],
   "source": [
    "numx = np.array([23,34,23,12,34,78])"
   ]
  },
  {
   "cell_type": "code",
   "execution_count": 136,
   "id": "d47b678f-2b9c-40ca-ad27-2d05cd4d564f",
   "metadata": {},
   "outputs": [
    {
     "data": {
      "text/plain": [
       "array([[23, 34, 23],\n",
       "       [12, 34, 78]])"
      ]
     },
     "execution_count": 136,
     "metadata": {},
     "output_type": "execute_result"
    }
   ],
   "source": [
    "numx.reshape(2,-1)"
   ]
  },
  {
   "cell_type": "code",
   "execution_count": 137,
   "id": "77f70303-d2c7-4071-ab08-3413cfe76243",
   "metadata": {},
   "outputs": [
    {
     "data": {
      "text/plain": [
       "4"
      ]
     },
     "execution_count": 137,
     "metadata": {},
     "output_type": "execute_result"
    }
   ],
   "source": [
    "numx.itemsize"
   ]
  },
  {
   "cell_type": "code",
   "execution_count": 152,
   "id": "8bb6c7d8-d01a-496f-aa42-5c8857eb46f4",
   "metadata": {},
   "outputs": [],
   "source": [
    "numy=numx.copy()"
   ]
  },
  {
   "cell_type": "code",
   "execution_count": 153,
   "id": "2d0906eb-4c5b-4b55-ac66-aeca53f7cfcd",
   "metadata": {},
   "outputs": [
    {
     "data": {
      "text/plain": [
       "1784643941936"
      ]
     },
     "execution_count": 153,
     "metadata": {},
     "output_type": "execute_result"
    }
   ],
   "source": [
    "id(numy)"
   ]
  },
  {
   "cell_type": "code",
   "execution_count": 154,
   "id": "ff2ba581-1566-42a2-828b-4565348f17c9",
   "metadata": {},
   "outputs": [
    {
     "data": {
      "text/plain": [
       "1784644036304"
      ]
     },
     "execution_count": 154,
     "metadata": {},
     "output_type": "execute_result"
    }
   ],
   "source": [
    "id(numx)"
   ]
  },
  {
   "cell_type": "code",
   "execution_count": 155,
   "id": "c86119e7-05e0-49aa-9739-105a4ce381dc",
   "metadata": {},
   "outputs": [
    {
     "data": {
      "text/plain": [
       "array([ 1, 34, 23, 12, 34, 78])"
      ]
     },
     "execution_count": 155,
     "metadata": {},
     "output_type": "execute_result"
    }
   ],
   "source": [
    "numx"
   ]
  },
  {
   "cell_type": "code",
   "execution_count": 156,
   "id": "d76304b0-fe3e-4ff2-b3c2-c417d124bebf",
   "metadata": {},
   "outputs": [
    {
     "data": {
      "text/plain": [
       "array([ 1, 34, 23, 12, 34, 78])"
      ]
     },
     "execution_count": 156,
     "metadata": {},
     "output_type": "execute_result"
    }
   ],
   "source": [
    "numy"
   ]
  },
  {
   "cell_type": "code",
   "execution_count": null,
   "id": "1e695990-82e2-4536-9b39-60b1baec400a",
   "metadata": {},
   "outputs": [],
   "source": []
  }
 ],
 "metadata": {
  "kernelspec": {
   "display_name": "Python 3 (ipykernel)",
   "language": "python",
   "name": "python3"
  },
  "language_info": {
   "codemirror_mode": {
    "name": "ipython",
    "version": 3
   },
   "file_extension": ".py",
   "mimetype": "text/x-python",
   "name": "python",
   "nbconvert_exporter": "python",
   "pygments_lexer": "ipython3",
   "version": "3.11.7"
  }
 },
 "nbformat": 4,
 "nbformat_minor": 5
}
