{
 "cells": [
  {
   "cell_type": "code",
   "execution_count": 9,
   "id": "11a1eeff-15d8-4b8e-9827-999bf2fa8d98",
   "metadata": {},
   "outputs": [],
   "source": [
    "import cv2\n",
    "import matplotlib.pyplot as plt\n"
   ]
  },
  {
   "cell_type": "code",
   "execution_count": 10,
   "id": "893b806e-b67f-4a25-a127-a77cf8bc7bee",
   "metadata": {},
   "outputs": [
    {
     "data": {
      "text/plain": [
       "(512, 512, 3)"
      ]
     },
     "execution_count": 10,
     "metadata": {},
     "output_type": "execute_result"
    }
   ],
   "source": [
    "img = cv2.imread('images/lenna.png')\n",
    "img.shape"
   ]
  },
  {
   "cell_type": "code",
   "execution_count": 34,
   "id": "be67bd67-106e-4472-b43e-582dd2887acd",
   "metadata": {},
   "outputs": [],
   "source": [
    "pix = img[234,279]\n",
    "pix.reshape(1,1,3)\n",
    "cv2.imshow('Image', pix)\n",
    "cv2.waitKey(0)\n",
    "cv2.destroyAllWindows()"
   ]
  },
  {
   "cell_type": "code",
   "execution_count": 25,
   "id": "52b1f9a2-0d4b-419b-8d05-88818dfed80c",
   "metadata": {},
   "outputs": [
    {
     "data": {
      "text/plain": [
       "(3,)"
      ]
     },
     "execution_count": 25,
     "metadata": {},
     "output_type": "execute_result"
    }
   ],
   "source": [
    "pix.shape"
   ]
  },
  {
   "cell_type": "code",
   "execution_count": 14,
   "id": "bf32fbfa-bfe0-4d95-9179-dc648ff7caa0",
   "metadata": {},
   "outputs": [
    {
     "data": {
      "text/plain": [
       "(512, 512, 3)"
      ]
     },
     "execution_count": 14,
     "metadata": {},
     "output_type": "execute_result"
    }
   ],
   "source": [
    "img.shape"
   ]
  },
  {
   "cell_type": "code",
   "execution_count": 69,
   "id": "055e4d54-ea9b-44ba-901d-cfc5a0c27571",
   "metadata": {},
   "outputs": [],
   "source": [
    "#for i in range(512):\n",
    "    #img[i,i]=200\n",
    "#img[100:300,100:300] = 0\n"
   ]
  },
  {
   "cell_type": "code",
   "execution_count": 70,
   "id": "973098af-5b22-46bc-9153-b2fa20f23798",
   "metadata": {},
   "outputs": [],
   "source": [
    "cv2.imshow('Image', img)\n",
    "cv2.waitKey(0)\n",
    "cv2.destroyAllWindows()"
   ]
  },
  {
   "cell_type": "code",
   "execution_count": 77,
   "id": "96f22959-25ed-43b7-a4f0-f4b7900fddcc",
   "metadata": {},
   "outputs": [],
   "source": [
    "img = cv2.imread('images/lenna.png')\n",
    "img[100:300,100:300] = 255"
   ]
  },
  {
   "cell_type": "code",
   "execution_count": 78,
   "id": "3654f9ca-cfce-403b-8000-b7fdf1a3d2cb",
   "metadata": {},
   "outputs": [],
   "source": [
    "cv2.imshow('Image', img)\n",
    "cv2.waitKey(0)\n",
    "cv2.destroyAllWindows()"
   ]
  },
  {
   "cell_type": "code",
   "execution_count": 79,
   "id": "9c5514d0-eee0-4390-bc16-17e705168f22",
   "metadata": {},
   "outputs": [],
   "source": [
    "img = cv2.imread('images/lenna.png')"
   ]
  },
  {
   "cell_type": "code",
   "execution_count": 88,
   "id": "d55b6a54-621a-425b-a0b7-fa5d8c0cf88f",
   "metadata": {},
   "outputs": [],
   "source": [
    "img[0:512:2,0:512] = 0"
   ]
  },
  {
   "cell_type": "code",
   "execution_count": 89,
   "id": "b875b49d-aa79-40c7-a1d0-e0f562f6257b",
   "metadata": {},
   "outputs": [],
   "source": [
    "cv2.imshow('Image', img)\n",
    "cv2.waitKey(0)\n",
    "cv2.destroyAllWindows()"
   ]
  },
  {
   "cell_type": "code",
   "execution_count": null,
   "id": "e72d1be1-0887-429e-ad34-b9c748ed1901",
   "metadata": {},
   "outputs": [],
   "source": []
  }
 ],
 "metadata": {
  "kernelspec": {
   "display_name": "Python 3 (ipykernel)",
   "language": "python",
   "name": "python3"
  },
  "language_info": {
   "codemirror_mode": {
    "name": "ipython",
    "version": 3
   },
   "file_extension": ".py",
   "mimetype": "text/x-python",
   "name": "python",
   "nbconvert_exporter": "python",
   "pygments_lexer": "ipython3",
   "version": "3.11.7"
  }
 },
 "nbformat": 4,
 "nbformat_minor": 5
}
