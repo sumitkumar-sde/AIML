{
 "cells": [
  {
   "cell_type": "markdown",
   "id": "ae1fb3fa-9586-4dd4-aa33-94afbf619fc4",
   "metadata": {},
   "source": [
    "# Imports\n"
   ]
  },
  {
   "cell_type": "code",
   "execution_count": 3,
   "id": "96e33d59-fe1d-4e66-ab55-88e907568dca",
   "metadata": {},
   "outputs": [],
   "source": [
    "import cv2\n",
    "import matplotlib.pyplot as plt\n",
    "import numpy as np"
   ]
  },
  {
   "cell_type": "code",
   "execution_count": 18,
   "id": "5a39db80-42f6-497b-9a96-c46f3adc5c30",
   "metadata": {},
   "outputs": [],
   "source": [
    "#Read the Image\n",
    "img = cv2.imread('images/lena.png')\n",
    "\n",
    "#Define transformation\n",
    "tx = 10\n",
    "ty = 25\n",
    "angle = 180\n",
    "scale = 0.20\n",
    "shear_x = 0.9\n",
    "shear_y = 0.6\n",
    "\n",
    "#Create transformatio Matrix\n",
    "M = np.float32([[scale*np.cos(np.radians(angle)), shear_x, tx], [shear_y, scale*np.sin(np.radians(angle)), ty]])\n",
    "\n",
    "#Apply transformation to Image\n",
    "img_Aff = cv2.warpAffine(img, M, (100, 512))\n",
    "\n",
    "cv2.imshow('Affine',img_Aff)\n",
    "cv2.waitKey(0)\n",
    "cv2.destroyAllWindows()\n"
   ]
  },
  {
   "cell_type": "code",
   "execution_count": null,
   "id": "6571306d-22a3-40e8-82c8-0e91f5563118",
   "metadata": {},
   "outputs": [],
   "source": []
  }
 ],
 "metadata": {
  "kernelspec": {
   "display_name": "Python 3 (ipykernel)",
   "language": "python",
   "name": "python3"
  },
  "language_info": {
   "codemirror_mode": {
    "name": "ipython",
    "version": 3
   },
   "file_extension": ".py",
   "mimetype": "text/x-python",
   "name": "python",
   "nbconvert_exporter": "python",
   "pygments_lexer": "ipython3",
   "version": "3.11.7"
  }
 },
 "nbformat": 4,
 "nbformat_minor": 5
}
