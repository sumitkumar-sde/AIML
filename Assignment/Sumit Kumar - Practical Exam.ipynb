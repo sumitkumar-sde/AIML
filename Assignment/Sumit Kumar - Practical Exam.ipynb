{
 "cells": [
  {
   "cell_type": "code",
   "execution_count": 1,
   "id": "d04453fc-60ac-46ab-94d0-d84403c8949f",
   "metadata": {},
   "outputs": [],
   "source": [
    "# Sumit Kumar\n",
    "# Location: https://mitu.co.in/dataset\n",
    "# Dataset: grape_new.csv"
   ]
  },
  {
   "cell_type": "markdown",
   "id": "ca156786-8192-4839-a2b0-52ba6fd11c57",
   "metadata": {},
   "source": [
    "### Import the libraries"
   ]
  },
  {
   "cell_type": "code",
   "execution_count": 2,
   "id": "fd219cd5-065b-4ade-bbe7-d7bc4765121e",
   "metadata": {},
   "outputs": [],
   "source": [
    "import pandas as pd\n",
    "import numpy as np\n",
    "import matplotlib.pyplot as plt\n",
    "import seaborn as sns"
   ]
  },
  {
   "cell_type": "markdown",
   "id": "e25331ee-5fd5-4dd5-aeb3-7e3bb9a5e69e",
   "metadata": {},
   "source": [
    "### 1. Load the dataset"
   ]
  },
  {
   "cell_type": "code",
   "execution_count": 3,
   "id": "dbdb8c00-c710-40ac-a8ba-bf1c127ae9f8",
   "metadata": {},
   "outputs": [
    {
     "data": {
      "text/html": [
       "<div>\n",
       "<style scoped>\n",
       "    .dataframe tbody tr th:only-of-type {\n",
       "        vertical-align: middle;\n",
       "    }\n",
       "\n",
       "    .dataframe tbody tr th {\n",
       "        vertical-align: top;\n",
       "    }\n",
       "\n",
       "    .dataframe thead th {\n",
       "        text-align: right;\n",
       "    }\n",
       "</style>\n",
       "<table border=\"1\" class=\"dataframe\">\n",
       "  <thead>\n",
       "    <tr style=\"text-align: right;\">\n",
       "      <th></th>\n",
       "      <th>COLOR_INTENSITY</th>\n",
       "      <th>SHAPE</th>\n",
       "      <th>RIPENESS_PER</th>\n",
       "      <th>ALCOHOL_PER</th>\n",
       "      <th>MALIC_ACID_PER</th>\n",
       "      <th>ASH</th>\n",
       "      <th>ALCALINITY_OF_ASH</th>\n",
       "      <th>MAGNESIUM_MEASURE</th>\n",
       "      <th>TOTAL_PHENOLS</th>\n",
       "      <th>FLAVANOIDS</th>\n",
       "      <th>...</th>\n",
       "      <th>HUE</th>\n",
       "      <th>PROLINE</th>\n",
       "      <th>TEMPERATURE</th>\n",
       "      <th>AVG_HUMIDITY</th>\n",
       "      <th>FERT_NITRO_PER</th>\n",
       "      <th>WATER_O2_PER</th>\n",
       "      <th>WATER_PH</th>\n",
       "      <th>FER_P2O5_PER</th>\n",
       "      <th>SOIL_TYPE</th>\n",
       "      <th>CLASS</th>\n",
       "    </tr>\n",
       "  </thead>\n",
       "  <tbody>\n",
       "    <tr>\n",
       "      <th>0</th>\n",
       "      <td>120.53</td>\n",
       "      <td>elliptical</td>\n",
       "      <td>16.73</td>\n",
       "      <td>14.23</td>\n",
       "      <td>1.71</td>\n",
       "      <td>2.43</td>\n",
       "      <td>15.6</td>\n",
       "      <td>127</td>\n",
       "      <td>2.80</td>\n",
       "      <td>3.06</td>\n",
       "      <td>...</td>\n",
       "      <td>1.04</td>\n",
       "      <td>1065</td>\n",
       "      <td>23.34</td>\n",
       "      <td>54.99</td>\n",
       "      <td>31.21</td>\n",
       "      <td>97.67</td>\n",
       "      <td>7.71</td>\n",
       "      <td>52.02</td>\n",
       "      <td>archean</td>\n",
       "      <td>High</td>\n",
       "    </tr>\n",
       "    <tr>\n",
       "      <th>1</th>\n",
       "      <td>112.57</td>\n",
       "      <td>elliptical</td>\n",
       "      <td>20.30</td>\n",
       "      <td>13.20</td>\n",
       "      <td>1.78</td>\n",
       "      <td>2.14</td>\n",
       "      <td>11.2</td>\n",
       "      <td>100</td>\n",
       "      <td>2.65</td>\n",
       "      <td>2.76</td>\n",
       "      <td>...</td>\n",
       "      <td>1.05</td>\n",
       "      <td>1050</td>\n",
       "      <td>23.40</td>\n",
       "      <td>51.91</td>\n",
       "      <td>31.28</td>\n",
       "      <td>99.05</td>\n",
       "      <td>7.66</td>\n",
       "      <td>48.18</td>\n",
       "      <td>archean</td>\n",
       "      <td>High</td>\n",
       "    </tr>\n",
       "    <tr>\n",
       "      <th>2</th>\n",
       "      <td>120.78</td>\n",
       "      <td>elliptical</td>\n",
       "      <td>20.81</td>\n",
       "      <td>13.16</td>\n",
       "      <td>2.36</td>\n",
       "      <td>2.67</td>\n",
       "      <td>18.6</td>\n",
       "      <td>101</td>\n",
       "      <td>2.80</td>\n",
       "      <td>3.24</td>\n",
       "      <td>...</td>\n",
       "      <td>1.03</td>\n",
       "      <td>1185</td>\n",
       "      <td>22.29</td>\n",
       "      <td>50.69</td>\n",
       "      <td>31.92</td>\n",
       "      <td>97.95</td>\n",
       "      <td>7.66</td>\n",
       "      <td>28.15</td>\n",
       "      <td>archean</td>\n",
       "      <td>High</td>\n",
       "    </tr>\n",
       "    <tr>\n",
       "      <th>3</th>\n",
       "      <td>134.17</td>\n",
       "      <td>elliptical</td>\n",
       "      <td>19.47</td>\n",
       "      <td>14.37</td>\n",
       "      <td>1.95</td>\n",
       "      <td>2.50</td>\n",
       "      <td>16.8</td>\n",
       "      <td>113</td>\n",
       "      <td>3.85</td>\n",
       "      <td>3.49</td>\n",
       "      <td>...</td>\n",
       "      <td>0.86</td>\n",
       "      <td>1480</td>\n",
       "      <td>21.28</td>\n",
       "      <td>47.72</td>\n",
       "      <td>31.79</td>\n",
       "      <td>95.46</td>\n",
       "      <td>7.21</td>\n",
       "      <td>55.95</td>\n",
       "      <td>alluvial</td>\n",
       "      <td>High</td>\n",
       "    </tr>\n",
       "    <tr>\n",
       "      <th>4</th>\n",
       "      <td>112.19</td>\n",
       "      <td>round</td>\n",
       "      <td>17.57</td>\n",
       "      <td>13.24</td>\n",
       "      <td>2.59</td>\n",
       "      <td>2.87</td>\n",
       "      <td>21.0</td>\n",
       "      <td>118</td>\n",
       "      <td>2.80</td>\n",
       "      <td>2.69</td>\n",
       "      <td>...</td>\n",
       "      <td>1.04</td>\n",
       "      <td>735</td>\n",
       "      <td>23.76</td>\n",
       "      <td>45.09</td>\n",
       "      <td>31.86</td>\n",
       "      <td>94.45</td>\n",
       "      <td>7.80</td>\n",
       "      <td>55.99</td>\n",
       "      <td>archean</td>\n",
       "      <td>High</td>\n",
       "    </tr>\n",
       "    <tr>\n",
       "      <th>...</th>\n",
       "      <td>...</td>\n",
       "      <td>...</td>\n",
       "      <td>...</td>\n",
       "      <td>...</td>\n",
       "      <td>...</td>\n",
       "      <td>...</td>\n",
       "      <td>...</td>\n",
       "      <td>...</td>\n",
       "      <td>...</td>\n",
       "      <td>...</td>\n",
       "      <td>...</td>\n",
       "      <td>...</td>\n",
       "      <td>...</td>\n",
       "      <td>...</td>\n",
       "      <td>...</td>\n",
       "      <td>...</td>\n",
       "      <td>...</td>\n",
       "      <td>...</td>\n",
       "      <td>...</td>\n",
       "      <td>...</td>\n",
       "      <td>...</td>\n",
       "    </tr>\n",
       "    <tr>\n",
       "      <th>189</th>\n",
       "      <td>102.34</td>\n",
       "      <td>elliptical</td>\n",
       "      <td>21.23</td>\n",
       "      <td>12.07</td>\n",
       "      <td>2.16</td>\n",
       "      <td>2.17</td>\n",
       "      <td>21.0</td>\n",
       "      <td>85</td>\n",
       "      <td>2.60</td>\n",
       "      <td>2.65</td>\n",
       "      <td>...</td>\n",
       "      <td>0.86</td>\n",
       "      <td>378</td>\n",
       "      <td>25.58</td>\n",
       "      <td>46.15</td>\n",
       "      <td>30.14</td>\n",
       "      <td>89.52</td>\n",
       "      <td>8.49</td>\n",
       "      <td>55.83</td>\n",
       "      <td>alluvial</td>\n",
       "      <td>Medium</td>\n",
       "    </tr>\n",
       "    <tr>\n",
       "      <th>190</th>\n",
       "      <td>109.80</td>\n",
       "      <td>elliptical</td>\n",
       "      <td>21.67</td>\n",
       "      <td>12.43</td>\n",
       "      <td>1.53</td>\n",
       "      <td>2.29</td>\n",
       "      <td>NaN</td>\n",
       "      <td>86</td>\n",
       "      <td>2.74</td>\n",
       "      <td>3.15</td>\n",
       "      <td>...</td>\n",
       "      <td>0.69</td>\n",
       "      <td>352</td>\n",
       "      <td>24.23</td>\n",
       "      <td>52.23</td>\n",
       "      <td>30.72</td>\n",
       "      <td>85.91</td>\n",
       "      <td>7.73</td>\n",
       "      <td>55.47</td>\n",
       "      <td>archean</td>\n",
       "      <td>Medium</td>\n",
       "    </tr>\n",
       "    <tr>\n",
       "      <th>191</th>\n",
       "      <td>103.86</td>\n",
       "      <td>round</td>\n",
       "      <td>22.01</td>\n",
       "      <td>11.79</td>\n",
       "      <td>2.13</td>\n",
       "      <td>2.78</td>\n",
       "      <td>28.5</td>\n",
       "      <td>92</td>\n",
       "      <td>2.13</td>\n",
       "      <td>2.24</td>\n",
       "      <td>...</td>\n",
       "      <td>0.97</td>\n",
       "      <td>466</td>\n",
       "      <td>27.62</td>\n",
       "      <td>48.98</td>\n",
       "      <td>30.46</td>\n",
       "      <td>86.31</td>\n",
       "      <td>7.57</td>\n",
       "      <td>47.57</td>\n",
       "      <td>archean</td>\n",
       "      <td>Medium</td>\n",
       "    </tr>\n",
       "    <tr>\n",
       "      <th>192</th>\n",
       "      <td>98.30</td>\n",
       "      <td>elliptical</td>\n",
       "      <td>21.95</td>\n",
       "      <td>12.37</td>\n",
       "      <td>1.63</td>\n",
       "      <td>2.30</td>\n",
       "      <td>24.5</td>\n",
       "      <td>88</td>\n",
       "      <td>2.22</td>\n",
       "      <td>2.45</td>\n",
       "      <td>...</td>\n",
       "      <td>0.89</td>\n",
       "      <td>342</td>\n",
       "      <td>27.54</td>\n",
       "      <td>47.72</td>\n",
       "      <td>30.01</td>\n",
       "      <td>90.60</td>\n",
       "      <td>7.15</td>\n",
       "      <td>45.91</td>\n",
       "      <td>alluvial</td>\n",
       "      <td>Medium</td>\n",
       "    </tr>\n",
       "    <tr>\n",
       "      <th>193</th>\n",
       "      <td>101.33</td>\n",
       "      <td>elliptical</td>\n",
       "      <td>21.60</td>\n",
       "      <td>12.04</td>\n",
       "      <td>4.30</td>\n",
       "      <td>2.38</td>\n",
       "      <td>NaN</td>\n",
       "      <td>80</td>\n",
       "      <td>2.10</td>\n",
       "      <td>1.75</td>\n",
       "      <td>...</td>\n",
       "      <td>0.79</td>\n",
       "      <td>580</td>\n",
       "      <td>25.10</td>\n",
       "      <td>55.42</td>\n",
       "      <td>30.89</td>\n",
       "      <td>88.14</td>\n",
       "      <td>6.68</td>\n",
       "      <td>52.42</td>\n",
       "      <td>archean</td>\n",
       "      <td>Medium</td>\n",
       "    </tr>\n",
       "  </tbody>\n",
       "</table>\n",
       "<p>194 rows × 21 columns</p>\n",
       "</div>"
      ],
      "text/plain": [
       "     COLOR_INTENSITY       SHAPE  RIPENESS_PER  ALCOHOL_PER  MALIC_ACID_PER  \\\n",
       "0             120.53  elliptical         16.73        14.23            1.71   \n",
       "1             112.57  elliptical         20.30        13.20            1.78   \n",
       "2             120.78  elliptical         20.81        13.16            2.36   \n",
       "3             134.17  elliptical         19.47        14.37            1.95   \n",
       "4             112.19       round         17.57        13.24            2.59   \n",
       "..               ...         ...           ...          ...             ...   \n",
       "189           102.34  elliptical         21.23        12.07            2.16   \n",
       "190           109.80  elliptical         21.67        12.43            1.53   \n",
       "191           103.86       round         22.01        11.79            2.13   \n",
       "192            98.30  elliptical         21.95        12.37            1.63   \n",
       "193           101.33  elliptical         21.60        12.04            4.30   \n",
       "\n",
       "      ASH  ALCALINITY_OF_ASH  MAGNESIUM_MEASURE  TOTAL_PHENOLS  FLAVANOIDS  \\\n",
       "0    2.43               15.6                127           2.80        3.06   \n",
       "1    2.14               11.2                100           2.65        2.76   \n",
       "2    2.67               18.6                101           2.80        3.24   \n",
       "3    2.50               16.8                113           3.85        3.49   \n",
       "4    2.87               21.0                118           2.80        2.69   \n",
       "..    ...                ...                ...            ...         ...   \n",
       "189  2.17               21.0                 85           2.60        2.65   \n",
       "190  2.29                NaN                 86           2.74        3.15   \n",
       "191  2.78               28.5                 92           2.13        2.24   \n",
       "192  2.30               24.5                 88           2.22        2.45   \n",
       "193  2.38                NaN                 80           2.10        1.75   \n",
       "\n",
       "     ...   HUE  PROLINE  TEMPERATURE  AVG_HUMIDITY  FERT_NITRO_PER  \\\n",
       "0    ...  1.04     1065        23.34         54.99           31.21   \n",
       "1    ...  1.05     1050        23.40         51.91           31.28   \n",
       "2    ...  1.03     1185        22.29         50.69           31.92   \n",
       "3    ...  0.86     1480        21.28         47.72           31.79   \n",
       "4    ...  1.04      735        23.76         45.09           31.86   \n",
       "..   ...   ...      ...          ...           ...             ...   \n",
       "189  ...  0.86      378        25.58         46.15           30.14   \n",
       "190  ...  0.69      352        24.23         52.23           30.72   \n",
       "191  ...  0.97      466        27.62         48.98           30.46   \n",
       "192  ...  0.89      342        27.54         47.72           30.01   \n",
       "193  ...  0.79      580        25.10         55.42           30.89   \n",
       "\n",
       "     WATER_O2_PER  WATER_PH  FER_P2O5_PER  SOIL_TYPE   CLASS  \n",
       "0           97.67      7.71         52.02    archean    High  \n",
       "1           99.05      7.66         48.18    archean    High  \n",
       "2           97.95      7.66         28.15    archean    High  \n",
       "3           95.46      7.21         55.95   alluvial    High  \n",
       "4           94.45      7.80         55.99    archean    High  \n",
       "..            ...       ...           ...        ...     ...  \n",
       "189         89.52      8.49         55.83   alluvial  Medium  \n",
       "190         85.91      7.73         55.47    archean  Medium  \n",
       "191         86.31      7.57         47.57    archean  Medium  \n",
       "192         90.60      7.15         45.91   alluvial  Medium  \n",
       "193         88.14      6.68         52.42    archean  Medium  \n",
       "\n",
       "[194 rows x 21 columns]"
      ]
     },
     "execution_count": 3,
     "metadata": {},
     "output_type": "execute_result"
    }
   ],
   "source": [
    "df = pd.read_csv('Datasets/grapes_new.csv')\n",
    "df"
   ]
  },
  {
   "cell_type": "code",
   "execution_count": 21,
   "id": "8113d9b7-1dc5-4c0e-b471-179b58ce931e",
   "metadata": {},
   "outputs": [
    {
     "data": {
      "text/plain": [
       "Index(['COLOR_INTENSITY', 'SHAPE', 'RIPENESS_PER', 'ALCOHOL_PER',\n",
       "       'MALIC_ACID_PER', 'ASH', 'ALCALINITY_OF_ASH', 'MAGNESIUM_MEASURE',\n",
       "       'TOTAL_PHENOLS', 'FLAVANOIDS', 'PROANTHOCYANINS', 'HUE', 'PROLINE',\n",
       "       'TEMPERATURE', 'AVG_HUMIDITY', 'FERT_NITRO_PER', 'WATER_O2_PER',\n",
       "       'WATER_PH', 'FER_P2O5_PER', 'SOIL_TYPE', 'CLASS'],\n",
       "      dtype='object')"
      ]
     },
     "execution_count": 21,
     "metadata": {},
     "output_type": "execute_result"
    }
   ],
   "source": [
    "df.columns"
   ]
  },
  {
   "cell_type": "markdown",
   "id": "1009d78a-2c8a-4cb1-8a05-09eb89ac7d7b",
   "metadata": {
    "jp-MarkdownHeadingCollapsed": true
   },
   "source": []
  },
  {
   "cell_type": "code",
   "execution_count": 4,
   "id": "11f53b7e-c53e-465e-8d61-ca566ae9de89",
   "metadata": {},
   "outputs": [
    {
     "data": {
      "text/plain": [
       "<bound method DataFrame.count of      COLOR_INTENSITY       SHAPE  RIPENESS_PER  ALCOHOL_PER  MALIC_ACID_PER  \\\n",
       "0             120.53  elliptical         16.73        14.23            1.71   \n",
       "1             112.57  elliptical         20.30        13.20            1.78   \n",
       "2             120.78  elliptical         20.81        13.16            2.36   \n",
       "3             134.17  elliptical         19.47        14.37            1.95   \n",
       "4             112.19       round         17.57        13.24            2.59   \n",
       "..               ...         ...           ...          ...             ...   \n",
       "189           102.34  elliptical         21.23        12.07            2.16   \n",
       "190           109.80  elliptical         21.67        12.43            1.53   \n",
       "191           103.86       round         22.01        11.79            2.13   \n",
       "192            98.30  elliptical         21.95        12.37            1.63   \n",
       "193           101.33  elliptical         21.60        12.04            4.30   \n",
       "\n",
       "      ASH  ALCALINITY_OF_ASH  MAGNESIUM_MEASURE  TOTAL_PHENOLS  FLAVANOIDS  \\\n",
       "0    2.43               15.6                127           2.80        3.06   \n",
       "1    2.14               11.2                100           2.65        2.76   \n",
       "2    2.67               18.6                101           2.80        3.24   \n",
       "3    2.50               16.8                113           3.85        3.49   \n",
       "4    2.87               21.0                118           2.80        2.69   \n",
       "..    ...                ...                ...            ...         ...   \n",
       "189  2.17               21.0                 85           2.60        2.65   \n",
       "190  2.29                NaN                 86           2.74        3.15   \n",
       "191  2.78               28.5                 92           2.13        2.24   \n",
       "192  2.30               24.5                 88           2.22        2.45   \n",
       "193  2.38                NaN                 80           2.10        1.75   \n",
       "\n",
       "     ...   HUE  PROLINE  TEMPERATURE  AVG_HUMIDITY  FERT_NITRO_PER  \\\n",
       "0    ...  1.04     1065        23.34         54.99           31.21   \n",
       "1    ...  1.05     1050        23.40         51.91           31.28   \n",
       "2    ...  1.03     1185        22.29         50.69           31.92   \n",
       "3    ...  0.86     1480        21.28         47.72           31.79   \n",
       "4    ...  1.04      735        23.76         45.09           31.86   \n",
       "..   ...   ...      ...          ...           ...             ...   \n",
       "189  ...  0.86      378        25.58         46.15           30.14   \n",
       "190  ...  0.69      352        24.23         52.23           30.72   \n",
       "191  ...  0.97      466        27.62         48.98           30.46   \n",
       "192  ...  0.89      342        27.54         47.72           30.01   \n",
       "193  ...  0.79      580        25.10         55.42           30.89   \n",
       "\n",
       "     WATER_O2_PER  WATER_PH  FER_P2O5_PER  SOIL_TYPE   CLASS  \n",
       "0           97.67      7.71         52.02    archean    High  \n",
       "1           99.05      7.66         48.18    archean    High  \n",
       "2           97.95      7.66         28.15    archean    High  \n",
       "3           95.46      7.21         55.95   alluvial    High  \n",
       "4           94.45      7.80         55.99    archean    High  \n",
       "..            ...       ...           ...        ...     ...  \n",
       "189         89.52      8.49         55.83   alluvial  Medium  \n",
       "190         85.91      7.73         55.47    archean  Medium  \n",
       "191         86.31      7.57         47.57    archean  Medium  \n",
       "192         90.60      7.15         45.91   alluvial  Medium  \n",
       "193         88.14      6.68         52.42    archean  Medium  \n",
       "\n",
       "[194 rows x 21 columns]>"
      ]
     },
     "execution_count": 4,
     "metadata": {},
     "output_type": "execute_result"
    }
   ],
   "source": [
    "df.count"
   ]
  },
  {
   "cell_type": "code",
   "execution_count": 10,
   "id": "3f62e1d7-9bd8-48bb-93ab-fd84330bb18b",
   "metadata": {},
   "outputs": [],
   "source": [
    "# No. of data not availabe in 5 columns"
   ]
  },
  {
   "cell_type": "code",
   "execution_count": 11,
   "id": "46377102-25ed-4175-a26d-80c437c1cfec",
   "metadata": {},
   "outputs": [
    {
     "name": "stdout",
     "output_type": "stream",
     "text": [
      "Total No of cell with NaN:  17\n"
     ]
    }
   ],
   "source": [
    "print('Total No of cell with NaN: ', df.isna().sum().sum())"
   ]
  },
  {
   "cell_type": "code",
   "execution_count": 19,
   "id": "28d6d260-1888-4263-9e3b-041900b49905",
   "metadata": {},
   "outputs": [],
   "source": [
    "# Fill the NaN data with bfil and ffil and inplace in the Data Frame"
   ]
  },
  {
   "cell_type": "markdown",
   "id": "445784f7-9709-4451-ad3a-8f5d56b7ce77",
   "metadata": {},
   "source": []
  },
  {
   "cell_type": "code",
   "execution_count": 26,
   "id": "99a48051-c225-4257-bd96-40e8a07bba5d",
   "metadata": {},
   "outputs": [],
   "source": []
  },
  {
   "cell_type": "code",
   "execution_count": 27,
   "id": "8d1f46dd-9f63-4810-947b-4a82e7a46239",
   "metadata": {},
   "outputs": [
    {
     "data": {
      "text/plain": [
       "((194, 20), (194,))"
      ]
     },
     "execution_count": 27,
     "metadata": {},
     "output_type": "execute_result"
    }
   ],
   "source": []
  },
  {
   "cell_type": "markdown",
   "id": "23103406-a7df-49e4-abca-f8b065881e12",
   "metadata": {},
   "source": [
    "### 3 Apply the data cleaning"
   ]
  },
  {
   "cell_type": "code",
   "execution_count": 75,
   "id": "9c4df0b7-0bf8-4765-b231-4dbb40c2b874",
   "metadata": {},
   "outputs": [],
   "source": [
    "# To check is data not available"
   ]
  },
  {
   "cell_type": "code",
   "execution_count": 76,
   "id": "228e6eef-b684-4213-ad69-62e7a300ff44",
   "metadata": {},
   "outputs": [
    {
     "data": {
      "text/plain": [
       "COLOR_INTENSITY      0\n",
       "SHAPE                0\n",
       "RIPENESS_PER         0\n",
       "ALCOHOL_PER          0\n",
       "MALIC_ACID_PER       0\n",
       "ASH                  0\n",
       "ALCALINITY_OF_ASH    0\n",
       "MAGNESIUM_MEASURE    0\n",
       "TOTAL_PHENOLS        0\n",
       "FLAVANOIDS           0\n",
       "PROANTHOCYANINS      0\n",
       "HUE                  0\n",
       "PROLINE              0\n",
       "TEMPERATURE          0\n",
       "AVG_HUMIDITY         0\n",
       "FERT_NITRO_PER       0\n",
       "WATER_O2_PER         0\n",
       "WATER_PH             0\n",
       "FER_P2O5_PER         0\n",
       "SOIL_TYPE            0\n",
       "CLASS                0\n",
       "dtype: int64"
      ]
     },
     "execution_count": 76,
     "metadata": {},
     "output_type": "execute_result"
    }
   ],
   "source": [
    "df.isna().sum()"
   ]
  },
  {
   "cell_type": "code",
   "execution_count": null,
   "id": "dc8c7c39-f104-467b-9cf3-b9a07de7b71b",
   "metadata": {},
   "outputs": [],
   "source": [
    "# No. of data not availabe in 5 columns"
   ]
  },
  {
   "cell_type": "code",
   "execution_count": null,
   "id": "245860a8-202a-44f8-8c8b-2179d6b4107a",
   "metadata": {},
   "outputs": [],
   "source": [
    "df.ffill(inplace=True)"
   ]
  },
  {
   "cell_type": "code",
   "execution_count": null,
   "id": "d6d01b9f-5af7-491b-8af2-02f0b2fccf3c",
   "metadata": {},
   "outputs": [],
   "source": [
    "df.ffill(inplace=True)"
   ]
  },
  {
   "cell_type": "code",
   "execution_count": null,
   "id": "d6a25c6e-b2a5-40df-86f2-ae983e59df48",
   "metadata": {},
   "outputs": [],
   "source": [
    "print('Total No of cell with NaN: ', df.isna().sum().sum())"
   ]
  },
  {
   "cell_type": "code",
   "execution_count": null,
   "id": "b9f27618-e749-4e57-b8d3-8bd733deaa17",
   "metadata": {},
   "outputs": [],
   "source": [
    "# to check any data is duplicate\n",
    "df.duplicated().sum()"
   ]
  },
  {
   "cell_type": "code",
   "execution_count": null,
   "id": "4abef422-3a74-450f-bd83-0ade663f3cdd",
   "metadata": {},
   "outputs": [],
   "source": [
    "# extracted numerical columns only "
   ]
  },
  {
   "cell_type": "markdown",
   "id": "bf160614-579a-471a-af5f-5e43ec498951",
   "metadata": {},
   "source": [
    "### 2. Seprate the Input and Output Variable"
   ]
  },
  {
   "cell_type": "code",
   "execution_count": null,
   "id": "96ecbc76-1a07-4719-8b9e-62090edde962",
   "metadata": {},
   "outputs": [],
   "source": [
    "# input\n",
    "x = df.drop(['CLASS'], axis=1)\n",
    "\n",
    "# output\n",
    "y = df['CLASS']"
   ]
  },
  {
   "cell_type": "code",
   "execution_count": null,
   "id": "a60d3eaa-75be-4812-bf6b-92f660256efa",
   "metadata": {},
   "outputs": [],
   "source": [
    "x.shape, y.shape"
   ]
  },
  {
   "cell_type": "markdown",
   "id": "a2d09a3b-6900-4292-a859-d7c96c25f5c4",
   "metadata": {},
   "source": [
    "### 4. Explore the output variable with countplot and piechart"
   ]
  },
  {
   "cell_type": "code",
   "execution_count": 50,
   "id": "90da23c1-ec49-4aa3-af24-7ba1f4923801",
   "metadata": {},
   "outputs": [
    {
     "data": {
      "text/plain": [
       "([<matplotlib.patches.Wedge at 0x1e6d32f0150>,\n",
       "  <matplotlib.patches.Wedge at 0x1e6d330e810>,\n",
       "  <matplotlib.patches.Wedge at 0x1e6d330ffd0>],\n",
       " [Text(0.3669076958356875, 1.0370046975479652, 'Medium'),\n",
       "  Text(-1.0309274032802325, -0.38365178113215764, 'High'),\n",
       "  Text(0.7055489185938965, -0.8439198560710509, 'Low')],\n",
       " [Text(0.20013147045582955, 0.5656389259352537, '39.18%'),\n",
       "  Text(-0.562324038152854, -0.20926460789026777, '32.99%'),\n",
       "  Text(0.3848448646875799, -0.4603199214933004, '27.84%')])"
      ]
     },
     "execution_count": 50,
     "metadata": {},
     "output_type": "execute_result"
    },
    {
     "data": {
      "image/png": "[encoded data removed]",
      "text/plain": [
       "<Figure size 1600x900 with 2 Axes>"
      ]
     },
     "metadata": {},
     "output_type": "display_data"
    }
   ],
   "source": [
    "plt.figure(figsize=(16,9))\n",
    "plt.subplot(121)\n",
    "plt.title('Count Plot')\n",
    "sns.countplot(x='CLASS', data=df)\n",
    "\n",
    "plt.subplot(122)\n",
    "plt.title('Pie Chart')\n",
    "plt.pie(y.value_counts(), labels = y.value_counts().index, autopct='%2.2f%%', colors='yc')"
   ]
  },
  {
   "cell_type": "markdown",
   "id": "4c246624-6e47-426d-82f7-1a2ba99713e0",
   "metadata": {},
   "source": [
    "### 5. Explore the shape and soil type through countplot and pie chart"
   ]
  },
  {
   "cell_type": "code",
   "execution_count": 68,
   "id": "8058ee9d-ec45-4164-b989-e2d27618858a",
   "metadata": {},
   "outputs": [
    {
     "data": {
      "text/plain": [
       "([<matplotlib.patches.Wedge at 0x1e6db16a7d0>,\n",
       "  <matplotlib.patches.Wedge at 0x1e6db1d26d0>],\n",
       " [Text(-0.12442511387088917, 1.0929402504429124, 'archean'),\n",
       "  Text(0.12442501154243722, -1.0929402620924278, 'alluvial')],\n",
       " [Text(-0.0678682439295759, 0.5961492275143159, '53.61%'),\n",
       "  Text(0.06786818811405666, -0.5961492338685969, '46.39%')])"
      ]
     },
     "execution_count": 68,
     "metadata": {},
     "output_type": "execute_result"
    },
    {
     "data": {
      "image/png": "[encoded data removed]",
      "text/plain": [
       "<Figure size 1600x900 with 2 Axes>"
      ]
     },
     "metadata": {},
     "output_type": "display_data"
    },
    {
     "data": {
      "image/png": "[encoded data removed]",
      "text/plain": [
       "<Figure size 1600x900 with 2 Axes>"
      ]
     },
     "metadata": {},
     "output_type": "display_data"
    }
   ],
   "source": [
    "plt.figure(figsize=(16,9))\n",
    "plt.subplot(221)\n",
    "plt.title('Count Plot SHAPE')\n",
    "sns.countplot(x='SHAPE', data=df)\n",
    "\n",
    "plt.subplot(222)\n",
    "plt.title('Pie Chart SHAPE')\n",
    "plt.pie(x['SHAPE'].value_counts(), labels = x['SHAPE'].value_counts().index, autopct='%2.2f%%', colors='yc')\n",
    "\n",
    "plt.figure(figsize=(16,9))\n",
    "plt.subplot(223)\n",
    "plt.title('Count Plot SOIL_TYPE')\n",
    "sns.countplot(x='SOIL_TYPE', data=df)\n",
    "\n",
    "plt.subplot(224)\n",
    "plt.title('Pie Chart SOIL_TYPE')\n",
    "plt.pie(x['SOIL_TYPE'].value_counts(), labels = x['SOIL_TYPE'].value_counts().index, autopct='%2.2f%%', colors='yc')"
   ]
  },
  {
   "cell_type": "markdown",
   "id": "c1e03bad-7dab-457b-b0a3-8328058054ac",
   "metadata": {},
   "source": [
    "### 6. Explore alchohol_per, temperature, avg_humidity, fert_nitro_per, water_ph\n",
    "### using kdeplot\r"
   ]
  },
  {
   "cell_type": "code",
   "execution_count": 71,
   "id": "754afa4f-9bc9-4c1a-b3af-90f65a565d99",
   "metadata": {},
   "outputs": [
    {
     "name": "stderr",
     "output_type": "stream",
     "text": [
      "C:\\ProgramData\\anaconda3\\Lib\\site-packages\\seaborn\\_oldcore.py:1119: FutureWarning: use_inf_as_na option is deprecated and will be removed in a future version. Convert inf values to NaN before operating instead.\n",
      "  with pd.option_context('mode.use_inf_as_na', True):\n",
      "C:\\ProgramData\\anaconda3\\Lib\\site-packages\\seaborn\\_oldcore.py:1119: FutureWarning: use_inf_as_na option is deprecated and will be removed in a future version. Convert inf values to NaN before operating instead.\n",
      "  with pd.option_context('mode.use_inf_as_na', True):\n",
      "C:\\ProgramData\\anaconda3\\Lib\\site-packages\\seaborn\\_oldcore.py:1119: FutureWarning: use_inf_as_na option is deprecated and will be removed in a future version. Convert inf values to NaN before operating instead.\n",
      "  with pd.option_context('mode.use_inf_as_na', True):\n",
      "C:\\ProgramData\\anaconda3\\Lib\\site-packages\\seaborn\\_oldcore.py:1119: FutureWarning: use_inf_as_na option is deprecated and will be removed in a future version. Convert inf values to NaN before operating instead.\n",
      "  with pd.option_context('mode.use_inf_as_na', True):\n",
      "C:\\ProgramData\\anaconda3\\Lib\\site-packages\\seaborn\\_oldcore.py:1119: FutureWarning: use_inf_as_na option is deprecated and will be removed in a future version. Convert inf values to NaN before operating instead.\n",
      "  with pd.option_context('mode.use_inf_as_na', True):\n"
     ]
    },
    {
     "data": {
      "text/plain": [
       "<Axes: xlabel='WATER_PH', ylabel='Density'>"
      ]
     },
     "execution_count": 71,
     "metadata": {},
     "output_type": "execute_result"
    },
    {
     "data": {
      "image/png": "[encoded data removed]",
      "text/plain": [
       "<Figure size 1600x900 with 6 Axes>"
      ]
     },
     "metadata": {},
     "output_type": "display_data"
    }
   ],
   "source": [
    "# ALCOHOL_PER using kdeplot\n",
    "plt.figure(figsize=(16,9))\n",
    "plt.title(' Using kdeplot')\n",
    "plt.subplot(321)\n",
    "sns.kdeplot(x['ALCOHOL_PER'])\n",
    "\n",
    "plt.subplot(322)\n",
    "sns.kdeplot(x['TEMPERATURE'])\n",
    "\n",
    "plt.subplot(323)\n",
    "sns.kdeplot(x['AVG_HUMIDITY'])\n",
    "\n",
    "plt.subplot(324)\n",
    "sns.kdeplot(x['FERT_NITRO_PER'])\n",
    "\n",
    "plt.subplot(325)\n",
    "sns.kdeplot(x['WATER_PH'])"
   ]
  },
  {
   "cell_type": "markdown",
   "id": "f9d31993-11cc-424f-8355-cfd4eadeec91",
   "metadata": {},
   "source": [
    "### 7. Apply the data encoding"
   ]
  },
  {
   "cell_type": "code",
   "execution_count": 74,
   "id": "eb32cb29-cc3d-4c63-a81b-d96852111a3e",
   "metadata": {},
   "outputs": [
    {
     "data": {
      "text/plain": [
       "SHAPE\n",
       "elliptical    123\n",
       "round          71\n",
       "Name: count, dtype: int64"
      ]
     },
     "execution_count": 74,
     "metadata": {},
     "output_type": "execute_result"
    }
   ],
   "source": [
    "# To check data encoding on \n",
    "x['SHAPE'].value_counts()"
   ]
  },
  {
   "cell_type": "code",
   "execution_count": 77,
   "id": "5b312ed2-0a45-4006-8c6a-1ad20aac6254",
   "metadata": {},
   "outputs": [],
   "source": [
    "# Not required already selected Numerical Data only"
   ]
  },
  {
   "cell_type": "markdown",
   "id": "16cc6ff0-d6be-4059-b32c-023b7b9be2f1",
   "metadata": {},
   "source": [
    "### 8. Implement the feature selection method chi2 and find top 5 features.\n"
   ]
  },
  {
   "cell_type": "code",
   "execution_count": 78,
   "id": "099d6195-c410-4a86-983d-cc60cca54904",
   "metadata": {},
   "outputs": [
    {
     "data": {
      "text/plain": [
       "['COLOR_INTENSITY',\n",
       " 'RIPENESS_PER',\n",
       " 'ALCOHOL_PER',\n",
       " 'MALIC_ACID_PER',\n",
       " 'ASH',\n",
       " 'ALCALINITY_OF_ASH',\n",
       " 'MAGNESIUM_MEASURE',\n",
       " 'TOTAL_PHENOLS',\n",
       " 'FLAVANOIDS',\n",
       " 'PROANTHOCYANINS',\n",
       " 'HUE',\n",
       " 'PROLINE',\n",
       " 'TEMPERATURE',\n",
       " 'AVG_HUMIDITY',\n",
       " 'FERT_NITRO_PER',\n",
       " 'WATER_O2_PER',\n",
       " 'WATER_PH',\n",
       " 'FER_P2O5_PER']"
      ]
     },
     "execution_count": 78,
     "metadata": {},
     "output_type": "execute_result"
    }
   ],
   "source": [
    "# extract the numerical columns only\n",
    "cols = ['int64', 'float']\n",
    "numerical_columns = list(x.select_dtypes(include=cols).columns)\n",
    "numerical_columns"
   ]
  },
  {
   "cell_type": "code",
   "execution_count": 79,
   "id": "4b26fcf7-615e-4567-a42b-d30d6d7b3603",
   "metadata": {},
   "outputs": [
    {
     "data": {
      "text/plain": [
       "(194, 18)"
      ]
     },
     "execution_count": 79,
     "metadata": {},
     "output_type": "execute_result"
    }
   ],
   "source": [
    "x_new = x[numerical_columns]\n",
    "x_new.shape"
   ]
  },
  {
   "cell_type": "code",
   "execution_count": 80,
   "id": "be793663-51a1-4fda-b242-b997aef26632",
   "metadata": {},
   "outputs": [
    {
     "data": {
      "text/html": [
       "<div>\n",
       "<style scoped>\n",
       "    .dataframe tbody tr th:only-of-type {\n",
       "        vertical-align: middle;\n",
       "    }\n",
       "\n",
       "    .dataframe tbody tr th {\n",
       "        vertical-align: top;\n",
       "    }\n",
       "\n",
       "    .dataframe thead th {\n",
       "        text-align: right;\n",
       "    }\n",
       "</style>\n",
       "<table border=\"1\" class=\"dataframe\">\n",
       "  <thead>\n",
       "    <tr style=\"text-align: right;\">\n",
       "      <th></th>\n",
       "      <th>COLOR_INTENSITY</th>\n",
       "      <th>RIPENESS_PER</th>\n",
       "      <th>ALCOHOL_PER</th>\n",
       "      <th>MALIC_ACID_PER</th>\n",
       "      <th>ASH</th>\n",
       "      <th>ALCALINITY_OF_ASH</th>\n",
       "      <th>MAGNESIUM_MEASURE</th>\n",
       "      <th>TOTAL_PHENOLS</th>\n",
       "      <th>FLAVANOIDS</th>\n",
       "      <th>PROANTHOCYANINS</th>\n",
       "      <th>HUE</th>\n",
       "      <th>PROLINE</th>\n",
       "      <th>TEMPERATURE</th>\n",
       "      <th>AVG_HUMIDITY</th>\n",
       "      <th>FERT_NITRO_PER</th>\n",
       "      <th>WATER_O2_PER</th>\n",
       "      <th>WATER_PH</th>\n",
       "      <th>FER_P2O5_PER</th>\n",
       "    </tr>\n",
       "  </thead>\n",
       "  <tbody>\n",
       "    <tr>\n",
       "      <th>0</th>\n",
       "      <td>120.53</td>\n",
       "      <td>16.73</td>\n",
       "      <td>14.23</td>\n",
       "      <td>1.71</td>\n",
       "      <td>2.43</td>\n",
       "      <td>15.6</td>\n",
       "      <td>127</td>\n",
       "      <td>2.80</td>\n",
       "      <td>3.06</td>\n",
       "      <td>2.29</td>\n",
       "      <td>1.04</td>\n",
       "      <td>1065</td>\n",
       "      <td>23.34</td>\n",
       "      <td>54.99</td>\n",
       "      <td>31.21</td>\n",
       "      <td>97.67</td>\n",
       "      <td>7.71</td>\n",
       "      <td>52.02</td>\n",
       "    </tr>\n",
       "    <tr>\n",
       "      <th>1</th>\n",
       "      <td>112.57</td>\n",
       "      <td>20.30</td>\n",
       "      <td>13.20</td>\n",
       "      <td>1.78</td>\n",
       "      <td>2.14</td>\n",
       "      <td>11.2</td>\n",
       "      <td>100</td>\n",
       "      <td>2.65</td>\n",
       "      <td>2.76</td>\n",
       "      <td>1.28</td>\n",
       "      <td>1.05</td>\n",
       "      <td>1050</td>\n",
       "      <td>23.40</td>\n",
       "      <td>51.91</td>\n",
       "      <td>31.28</td>\n",
       "      <td>99.05</td>\n",
       "      <td>7.66</td>\n",
       "      <td>48.18</td>\n",
       "    </tr>\n",
       "    <tr>\n",
       "      <th>2</th>\n",
       "      <td>120.78</td>\n",
       "      <td>20.81</td>\n",
       "      <td>13.16</td>\n",
       "      <td>2.36</td>\n",
       "      <td>2.67</td>\n",
       "      <td>18.6</td>\n",
       "      <td>101</td>\n",
       "      <td>2.80</td>\n",
       "      <td>3.24</td>\n",
       "      <td>2.81</td>\n",
       "      <td>1.03</td>\n",
       "      <td>1185</td>\n",
       "      <td>22.29</td>\n",
       "      <td>50.69</td>\n",
       "      <td>31.92</td>\n",
       "      <td>97.95</td>\n",
       "      <td>7.66</td>\n",
       "      <td>28.15</td>\n",
       "    </tr>\n",
       "    <tr>\n",
       "      <th>3</th>\n",
       "      <td>134.17</td>\n",
       "      <td>19.47</td>\n",
       "      <td>14.37</td>\n",
       "      <td>1.95</td>\n",
       "      <td>2.50</td>\n",
       "      <td>16.8</td>\n",
       "      <td>113</td>\n",
       "      <td>3.85</td>\n",
       "      <td>3.49</td>\n",
       "      <td>2.18</td>\n",
       "      <td>0.86</td>\n",
       "      <td>1480</td>\n",
       "      <td>21.28</td>\n",
       "      <td>47.72</td>\n",
       "      <td>31.79</td>\n",
       "      <td>95.46</td>\n",
       "      <td>7.21</td>\n",
       "      <td>55.95</td>\n",
       "    </tr>\n",
       "    <tr>\n",
       "      <th>4</th>\n",
       "      <td>112.19</td>\n",
       "      <td>17.57</td>\n",
       "      <td>13.24</td>\n",
       "      <td>2.59</td>\n",
       "      <td>2.87</td>\n",
       "      <td>21.0</td>\n",
       "      <td>118</td>\n",
       "      <td>2.80</td>\n",
       "      <td>2.69</td>\n",
       "      <td>1.82</td>\n",
       "      <td>1.04</td>\n",
       "      <td>735</td>\n",
       "      <td>23.76</td>\n",
       "      <td>45.09</td>\n",
       "      <td>31.86</td>\n",
       "      <td>94.45</td>\n",
       "      <td>7.80</td>\n",
       "      <td>55.99</td>\n",
       "    </tr>\n",
       "    <tr>\n",
       "      <th>...</th>\n",
       "      <td>...</td>\n",
       "      <td>...</td>\n",
       "      <td>...</td>\n",
       "      <td>...</td>\n",
       "      <td>...</td>\n",
       "      <td>...</td>\n",
       "      <td>...</td>\n",
       "      <td>...</td>\n",
       "      <td>...</td>\n",
       "      <td>...</td>\n",
       "      <td>...</td>\n",
       "      <td>...</td>\n",
       "      <td>...</td>\n",
       "      <td>...</td>\n",
       "      <td>...</td>\n",
       "      <td>...</td>\n",
       "      <td>...</td>\n",
       "      <td>...</td>\n",
       "    </tr>\n",
       "    <tr>\n",
       "      <th>189</th>\n",
       "      <td>102.34</td>\n",
       "      <td>21.23</td>\n",
       "      <td>12.07</td>\n",
       "      <td>2.16</td>\n",
       "      <td>2.17</td>\n",
       "      <td>21.0</td>\n",
       "      <td>85</td>\n",
       "      <td>2.60</td>\n",
       "      <td>2.65</td>\n",
       "      <td>1.35</td>\n",
       "      <td>0.86</td>\n",
       "      <td>378</td>\n",
       "      <td>25.58</td>\n",
       "      <td>46.15</td>\n",
       "      <td>30.14</td>\n",
       "      <td>89.52</td>\n",
       "      <td>8.49</td>\n",
       "      <td>55.83</td>\n",
       "    </tr>\n",
       "    <tr>\n",
       "      <th>190</th>\n",
       "      <td>109.80</td>\n",
       "      <td>21.67</td>\n",
       "      <td>12.43</td>\n",
       "      <td>1.53</td>\n",
       "      <td>2.29</td>\n",
       "      <td>21.0</td>\n",
       "      <td>86</td>\n",
       "      <td>2.74</td>\n",
       "      <td>3.15</td>\n",
       "      <td>1.77</td>\n",
       "      <td>0.69</td>\n",
       "      <td>352</td>\n",
       "      <td>24.23</td>\n",
       "      <td>52.23</td>\n",
       "      <td>30.72</td>\n",
       "      <td>85.91</td>\n",
       "      <td>7.73</td>\n",
       "      <td>55.47</td>\n",
       "    </tr>\n",
       "    <tr>\n",
       "      <th>191</th>\n",
       "      <td>103.86</td>\n",
       "      <td>22.01</td>\n",
       "      <td>11.79</td>\n",
       "      <td>2.13</td>\n",
       "      <td>2.78</td>\n",
       "      <td>28.5</td>\n",
       "      <td>92</td>\n",
       "      <td>2.13</td>\n",
       "      <td>2.24</td>\n",
       "      <td>1.76</td>\n",
       "      <td>0.97</td>\n",
       "      <td>466</td>\n",
       "      <td>27.62</td>\n",
       "      <td>48.98</td>\n",
       "      <td>30.46</td>\n",
       "      <td>86.31</td>\n",
       "      <td>7.57</td>\n",
       "      <td>47.57</td>\n",
       "    </tr>\n",
       "    <tr>\n",
       "      <th>192</th>\n",
       "      <td>98.30</td>\n",
       "      <td>21.95</td>\n",
       "      <td>12.37</td>\n",
       "      <td>1.63</td>\n",
       "      <td>2.30</td>\n",
       "      <td>24.5</td>\n",
       "      <td>88</td>\n",
       "      <td>2.22</td>\n",
       "      <td>2.45</td>\n",
       "      <td>1.90</td>\n",
       "      <td>0.89</td>\n",
       "      <td>342</td>\n",
       "      <td>27.54</td>\n",
       "      <td>47.72</td>\n",
       "      <td>30.01</td>\n",
       "      <td>90.60</td>\n",
       "      <td>7.15</td>\n",
       "      <td>45.91</td>\n",
       "    </tr>\n",
       "    <tr>\n",
       "      <th>193</th>\n",
       "      <td>101.33</td>\n",
       "      <td>21.60</td>\n",
       "      <td>12.04</td>\n",
       "      <td>4.30</td>\n",
       "      <td>2.38</td>\n",
       "      <td>24.5</td>\n",
       "      <td>80</td>\n",
       "      <td>2.10</td>\n",
       "      <td>1.75</td>\n",
       "      <td>1.35</td>\n",
       "      <td>0.79</td>\n",
       "      <td>580</td>\n",
       "      <td>25.10</td>\n",
       "      <td>55.42</td>\n",
       "      <td>30.89</td>\n",
       "      <td>88.14</td>\n",
       "      <td>6.68</td>\n",
       "      <td>52.42</td>\n",
       "    </tr>\n",
       "  </tbody>\n",
       "</table>\n",
       "<p>194 rows × 18 columns</p>\n",
       "</div>"
      ],
      "text/plain": [
       "     COLOR_INTENSITY  RIPENESS_PER  ALCOHOL_PER  MALIC_ACID_PER   ASH  \\\n",
       "0             120.53         16.73        14.23            1.71  2.43   \n",
       "1             112.57         20.30        13.20            1.78  2.14   \n",
       "2             120.78         20.81        13.16            2.36  2.67   \n",
       "3             134.17         19.47        14.37            1.95  2.50   \n",
       "4             112.19         17.57        13.24            2.59  2.87   \n",
       "..               ...           ...          ...             ...   ...   \n",
       "189           102.34         21.23        12.07            2.16  2.17   \n",
       "190           109.80         21.67        12.43            1.53  2.29   \n",
       "191           103.86         22.01        11.79            2.13  2.78   \n",
       "192            98.30         21.95        12.37            1.63  2.30   \n",
       "193           101.33         21.60        12.04            4.30  2.38   \n",
       "\n",
       "     ALCALINITY_OF_ASH  MAGNESIUM_MEASURE  TOTAL_PHENOLS  FLAVANOIDS  \\\n",
       "0                 15.6                127           2.80        3.06   \n",
       "1                 11.2                100           2.65        2.76   \n",
       "2                 18.6                101           2.80        3.24   \n",
       "3                 16.8                113           3.85        3.49   \n",
       "4                 21.0                118           2.80        2.69   \n",
       "..                 ...                ...            ...         ...   \n",
       "189               21.0                 85           2.60        2.65   \n",
       "190               21.0                 86           2.74        3.15   \n",
       "191               28.5                 92           2.13        2.24   \n",
       "192               24.5                 88           2.22        2.45   \n",
       "193               24.5                 80           2.10        1.75   \n",
       "\n",
       "     PROANTHOCYANINS   HUE  PROLINE  TEMPERATURE  AVG_HUMIDITY  \\\n",
       "0               2.29  1.04     1065        23.34         54.99   \n",
       "1               1.28  1.05     1050        23.40         51.91   \n",
       "2               2.81  1.03     1185        22.29         50.69   \n",
       "3               2.18  0.86     1480        21.28         47.72   \n",
       "4               1.82  1.04      735        23.76         45.09   \n",
       "..               ...   ...      ...          ...           ...   \n",
       "189             1.35  0.86      378        25.58         46.15   \n",
       "190             1.77  0.69      352        24.23         52.23   \n",
       "191             1.76  0.97      466        27.62         48.98   \n",
       "192             1.90  0.89      342        27.54         47.72   \n",
       "193             1.35  0.79      580        25.10         55.42   \n",
       "\n",
       "     FERT_NITRO_PER  WATER_O2_PER  WATER_PH  FER_P2O5_PER  \n",
       "0             31.21         97.67      7.71         52.02  \n",
       "1             31.28         99.05      7.66         48.18  \n",
       "2             31.92         97.95      7.66         28.15  \n",
       "3             31.79         95.46      7.21         55.95  \n",
       "4             31.86         94.45      7.80         55.99  \n",
       "..              ...           ...       ...           ...  \n",
       "189           30.14         89.52      8.49         55.83  \n",
       "190           30.72         85.91      7.73         55.47  \n",
       "191           30.46         86.31      7.57         47.57  \n",
       "192           30.01         90.60      7.15         45.91  \n",
       "193           30.89         88.14      6.68         52.42  \n",
       "\n",
       "[194 rows x 18 columns]"
      ]
     },
     "execution_count": 80,
     "metadata": {},
     "output_type": "execute_result"
    }
   ],
   "source": [
    "x_new"
   ]
  },
  {
   "cell_type": "code",
   "execution_count": 81,
   "id": "d07c60c5-8a54-4548-92f0-ce60cd791c7e",
   "metadata": {},
   "outputs": [],
   "source": [
    "from sklearn.feature_selection import SelectKBest, chi2"
   ]
  },
  {
   "cell_type": "code",
   "execution_count": 82,
   "id": "05186c0f-7cb3-4eb7-b922-c9c59c3bd1f3",
   "metadata": {},
   "outputs": [],
   "source": [
    "skf = SelectKBest(k=5, score_func = chi2)"
   ]
  },
  {
   "cell_type": "code",
   "execution_count": 83,
   "id": "420df7d9-ec27-417e-bc72-38638be58507",
   "metadata": {},
   "outputs": [
    {
     "data": {
      "text/html": [
       "<style>#sk-container-id-2 {color: black;background-color: white;}#sk-container-id-2 pre{padding: 0;}#sk-container-id-2 div.sk-toggleable {background-color: white;}#sk-container-id-2 label.sk-toggleable__label {cursor: pointer;display: block;width: 100%;margin-bottom: 0;padding: 0.3em;box-sizing: border-box;text-align: center;}#sk-container-id-2 label.sk-toggleable__label-arrow:before {content: \"▸\";float: left;margin-right: 0.25em;color: #696969;}#sk-container-id-2 label.sk-toggleable__label-arrow:hover:before {color: black;}#sk-container-id-2 div.sk-estimator:hover label.sk-toggleable__label-arrow:before {color: black;}#sk-container-id-2 div.sk-toggleable__content {max-height: 0;max-width: 0;overflow: hidden;text-align: left;background-color: #f0f8ff;}#sk-container-id-2 div.sk-toggleable__content pre {margin: 0.2em;color: black;border-radius: 0.25em;background-color: #f0f8ff;}#sk-container-id-2 input.sk-toggleable__control:checked~div.sk-toggleable__content {max-height: 200px;max-width: 100%;overflow: auto;}#sk-container-id-2 input.sk-toggleable__control:checked~label.sk-toggleable__label-arrow:before {content: \"▾\";}#sk-container-id-2 div.sk-estimator input.sk-toggleable__control:checked~label.sk-toggleable__label {background-color: #d4ebff;}#sk-container-id-2 div.sk-label input.sk-toggleable__control:checked~label.sk-toggleable__label {background-color: #d4ebff;}#sk-container-id-2 input.sk-hidden--visually {border: 0;clip: rect(1px 1px 1px 1px);clip: rect(1px, 1px, 1px, 1px);height: 1px;margin: -1px;overflow: hidden;padding: 0;position: absolute;width: 1px;}#sk-container-id-2 div.sk-estimator {font-family: monospace;background-color: #f0f8ff;border: 1px dotted black;border-radius: 0.25em;box-sizing: border-box;margin-bottom: 0.5em;}#sk-container-id-2 div.sk-estimator:hover {background-color: #d4ebff;}#sk-container-id-2 div.sk-parallel-item::after {content: \"\";width: 100%;border-bottom: 1px solid gray;flex-grow: 1;}#sk-container-id-2 div.sk-label:hover label.sk-toggleable__label {background-color: #d4ebff;}#sk-container-id-2 div.sk-serial::before {content: \"\";position: absolute;border-left: 1px solid gray;box-sizing: border-box;top: 0;bottom: 0;left: 50%;z-index: 0;}#sk-container-id-2 div.sk-serial {display: flex;flex-direction: column;align-items: center;background-color: white;padding-right: 0.2em;padding-left: 0.2em;position: relative;}#sk-container-id-2 div.sk-item {position: relative;z-index: 1;}#sk-container-id-2 div.sk-parallel {display: flex;align-items: stretch;justify-content: center;background-color: white;position: relative;}#sk-container-id-2 div.sk-item::before, #sk-container-id-2 div.sk-parallel-item::before {content: \"\";position: absolute;border-left: 1px solid gray;box-sizing: border-box;top: 0;bottom: 0;left: 50%;z-index: -1;}#sk-container-id-2 div.sk-parallel-item {display: flex;flex-direction: column;z-index: 1;position: relative;background-color: white;}#sk-container-id-2 div.sk-parallel-item:first-child::after {align-self: flex-end;width: 50%;}#sk-container-id-2 div.sk-parallel-item:last-child::after {align-self: flex-start;width: 50%;}#sk-container-id-2 div.sk-parallel-item:only-child::after {width: 0;}#sk-container-id-2 div.sk-dashed-wrapped {border: 1px dashed gray;margin: 0 0.4em 0.5em 0.4em;box-sizing: border-box;padding-bottom: 0.4em;background-color: white;}#sk-container-id-2 div.sk-label label {font-family: monospace;font-weight: bold;display: inline-block;line-height: 1.2em;}#sk-container-id-2 div.sk-label-container {text-align: center;}#sk-container-id-2 div.sk-container {/* jupyter's `normalize.less` sets `[hidden] { display: none; }` but bootstrap.min.css set `[hidden] { display: none !important; }` so we also need the `!important` here to be able to override the default hidden behavior on the sphinx rendered scikit-learn.org. See: https://github.com/scikit-learn/scikit-learn/issues/21755 */display: inline-block !important;position: relative;}#sk-container-id-2 div.sk-text-repr-fallback {display: none;}</style><div id=\"sk-container-id-2\" class=\"sk-top-container\"><div class=\"sk-text-repr-fallback\"><pre>SelectKBest(k=5, score_func=&lt;function chi2 at 0x000001E6D02E5EE0&gt;)</pre><b>In a Jupyter environment, please rerun this cell to show the HTML representation or trust the notebook. <br />On GitHub, the HTML representation is unable to render, please try loading this page with nbviewer.org.</b></div><div class=\"sk-container\" hidden><div class=\"sk-item\"><div class=\"sk-estimator sk-toggleable\"><input class=\"sk-toggleable__control sk-hidden--visually\" id=\"sk-estimator-id-2\" type=\"checkbox\" checked><label for=\"sk-estimator-id-2\" class=\"sk-toggleable__label sk-toggleable__label-arrow\">SelectKBest</label><div class=\"sk-toggleable__content\"><pre>SelectKBest(k=5, score_func=&lt;function chi2 at 0x000001E6D02E5EE0&gt;)</pre></div></div></div></div></div>"
      ],
      "text/plain": [
       "SelectKBest(k=5, score_func=<function chi2 at 0x000001E6D02E5EE0>)"
      ]
     },
     "execution_count": 83,
     "metadata": {},
     "output_type": "execute_result"
    }
   ],
   "source": [
    "skf.fit(x_new, y)"
   ]
  },
  {
   "cell_type": "code",
   "execution_count": 86,
   "id": "f4f3c14c-10f9-4f11-89ba-e8c5428960d1",
   "metadata": {},
   "outputs": [],
   "source": [
    "x_inp = x_new.iloc[:, skf.get_support()]"
   ]
  },
  {
   "cell_type": "markdown",
   "id": "43a1e6bf-5f4b-4782-8bd1-b1fda5b345d2",
   "metadata": {},
   "source": [
    "### 9. Apply feature scaling technique and transform"
   ]
  },
  {
   "cell_type": "code",
   "execution_count": 84,
   "id": "989ef5c2-0f6b-4203-a5e6-c8ff69c219bd",
   "metadata": {},
   "outputs": [],
   "source": [
    "from sklearn.preprocessing import MinMaxScaler"
   ]
  },
  {
   "cell_type": "code",
   "execution_count": 85,
   "id": "cc67f728-538e-4476-99f6-1079c6342653",
   "metadata": {},
   "outputs": [],
   "source": [
    "scaler = MinMaxScaler()"
   ]
  },
  {
   "cell_type": "code",
   "execution_count": 87,
   "id": "7422f1f6-e7d2-495e-991e-d861c94aebaa",
   "metadata": {},
   "outputs": [],
   "source": [
    "x_scaled = scaler.fit_transform(x_inp)"
   ]
  },
  {
   "cell_type": "markdown",
   "id": "f8fc6666-38b9-4603-a430-61f3e6a9ebaf",
   "metadata": {},
   "source": [
    "### 10.Perform the cross validation with split ratio 80:20 and stratification\n"
   ]
  },
  {
   "cell_type": "code",
   "execution_count": 88,
   "id": "2dccb4bd-27af-4d59-9cc4-cd0750ff18a5",
   "metadata": {},
   "outputs": [],
   "source": [
    "from sklearn.model_selection import train_test_split"
   ]
  },
  {
   "cell_type": "code",
   "execution_count": 99,
   "id": "86b5a1f2-acad-4dc5-8044-b3cd9559da19",
   "metadata": {},
   "outputs": [],
   "source": [
    "x_train, x_test, y_train, y_test =  train_test_split( x_scaled, y, random_state=0, test_size=0.2)"
   ]
  },
  {
   "cell_type": "code",
   "execution_count": 100,
   "id": "018270c9-3cd5-48a2-8064-ae17aa1030f0",
   "metadata": {},
   "outputs": [
    {
     "data": {
      "text/plain": [
       "((155, 5), (39, 5))"
      ]
     },
     "execution_count": 100,
     "metadata": {},
     "output_type": "execute_result"
    }
   ],
   "source": [
    "x_train.shape, x_test.shape"
   ]
  },
  {
   "cell_type": "markdown",
   "id": "9569efba-505f-4e63-aba5-44b934a3d2d3",
   "metadata": {},
   "source": [
    "### 11. Implement all classification algorithm to check the accuracy on the data."
   ]
  },
  {
   "cell_type": "code",
   "execution_count": 101,
   "id": "5bc64b90-a6a9-4f50-accc-1413298d0f17",
   "metadata": {},
   "outputs": [],
   "source": [
    "from sklearn.tree import DecisionTreeClassifier\n",
    "from sklearn.ensemble import RandomForestClassifier\n",
    "from sklearn.neighbors import KNeighborsClassifier\n",
    "from sklearn.svm import SVC\n",
    "from sklearn.naive_bayes import GaussianNB"
   ]
  },
  {
   "cell_type": "code",
   "execution_count": 102,
   "id": "4c15682a-35fc-4e6c-a394-4e888be6d40e",
   "metadata": {},
   "outputs": [],
   "source": [
    "clf_dt = DecisionTreeClassifier(random_state=0)\n",
    "clf_rf = RandomForestClassifier(random_state=0, n_estimators = 10)\n",
    "clf_knn = KNeighborsClassifier(n_neighbors=5)\n",
    "clf_svm = SVC(random_state = 0, kernel='rbf')\n",
    "clf_nb = GaussianNB()"
   ]
  },
  {
   "cell_type": "code",
   "execution_count": 103,
   "id": "8fc712a6-f4a3-4114-b78d-987962767600",
   "metadata": {},
   "outputs": [
    {
     "data": {
      "text/html": [
       "<style>#sk-container-id-4 {color: black;background-color: white;}#sk-container-id-4 pre{padding: 0;}#sk-container-id-4 div.sk-toggleable {background-color: white;}#sk-container-id-4 label.sk-toggleable__label {cursor: pointer;display: block;width: 100%;margin-bottom: 0;padding: 0.3em;box-sizing: border-box;text-align: center;}#sk-container-id-4 label.sk-toggleable__label-arrow:before {content: \"▸\";float: left;margin-right: 0.25em;color: #696969;}#sk-container-id-4 label.sk-toggleable__label-arrow:hover:before {color: black;}#sk-container-id-4 div.sk-estimator:hover label.sk-toggleable__label-arrow:before {color: black;}#sk-container-id-4 div.sk-toggleable__content {max-height: 0;max-width: 0;overflow: hidden;text-align: left;background-color: #f0f8ff;}#sk-container-id-4 div.sk-toggleable__content pre {margin: 0.2em;color: black;border-radius: 0.25em;background-color: #f0f8ff;}#sk-container-id-4 input.sk-toggleable__control:checked~div.sk-toggleable__content {max-height: 200px;max-width: 100%;overflow: auto;}#sk-container-id-4 input.sk-toggleable__control:checked~label.sk-toggleable__label-arrow:before {content: \"▾\";}#sk-container-id-4 div.sk-estimator input.sk-toggleable__control:checked~label.sk-toggleable__label {background-color: #d4ebff;}#sk-container-id-4 div.sk-label input.sk-toggleable__control:checked~label.sk-toggleable__label {background-color: #d4ebff;}#sk-container-id-4 input.sk-hidden--visually {border: 0;clip: rect(1px 1px 1px 1px);clip: rect(1px, 1px, 1px, 1px);height: 1px;margin: -1px;overflow: hidden;padding: 0;position: absolute;width: 1px;}#sk-container-id-4 div.sk-estimator {font-family: monospace;background-color: #f0f8ff;border: 1px dotted black;border-radius: 0.25em;box-sizing: border-box;margin-bottom: 0.5em;}#sk-container-id-4 div.sk-estimator:hover {background-color: #d4ebff;}#sk-container-id-4 div.sk-parallel-item::after {content: \"\";width: 100%;border-bottom: 1px solid gray;flex-grow: 1;}#sk-container-id-4 div.sk-label:hover label.sk-toggleable__label {background-color: #d4ebff;}#sk-container-id-4 div.sk-serial::before {content: \"\";position: absolute;border-left: 1px solid gray;box-sizing: border-box;top: 0;bottom: 0;left: 50%;z-index: 0;}#sk-container-id-4 div.sk-serial {display: flex;flex-direction: column;align-items: center;background-color: white;padding-right: 0.2em;padding-left: 0.2em;position: relative;}#sk-container-id-4 div.sk-item {position: relative;z-index: 1;}#sk-container-id-4 div.sk-parallel {display: flex;align-items: stretch;justify-content: center;background-color: white;position: relative;}#sk-container-id-4 div.sk-item::before, #sk-container-id-4 div.sk-parallel-item::before {content: \"\";position: absolute;border-left: 1px solid gray;box-sizing: border-box;top: 0;bottom: 0;left: 50%;z-index: -1;}#sk-container-id-4 div.sk-parallel-item {display: flex;flex-direction: column;z-index: 1;position: relative;background-color: white;}#sk-container-id-4 div.sk-parallel-item:first-child::after {align-self: flex-end;width: 50%;}#sk-container-id-4 div.sk-parallel-item:last-child::after {align-self: flex-start;width: 50%;}#sk-container-id-4 div.sk-parallel-item:only-child::after {width: 0;}#sk-container-id-4 div.sk-dashed-wrapped {border: 1px dashed gray;margin: 0 0.4em 0.5em 0.4em;box-sizing: border-box;padding-bottom: 0.4em;background-color: white;}#sk-container-id-4 div.sk-label label {font-family: monospace;font-weight: bold;display: inline-block;line-height: 1.2em;}#sk-container-id-4 div.sk-label-container {text-align: center;}#sk-container-id-4 div.sk-container {/* jupyter's `normalize.less` sets `[hidden] { display: none; }` but bootstrap.min.css set `[hidden] { display: none !important; }` so we also need the `!important` here to be able to override the default hidden behavior on the sphinx rendered scikit-learn.org. See: https://github.com/scikit-learn/scikit-learn/issues/21755 */display: inline-block !important;position: relative;}#sk-container-id-4 div.sk-text-repr-fallback {display: none;}</style><div id=\"sk-container-id-4\" class=\"sk-top-container\"><div class=\"sk-text-repr-fallback\"><pre>GaussianNB()</pre><b>In a Jupyter environment, please rerun this cell to show the HTML representation or trust the notebook. <br />On GitHub, the HTML representation is unable to render, please try loading this page with nbviewer.org.</b></div><div class=\"sk-container\" hidden><div class=\"sk-item\"><div class=\"sk-estimator sk-toggleable\"><input class=\"sk-toggleable__control sk-hidden--visually\" id=\"sk-estimator-id-4\" type=\"checkbox\" checked><label for=\"sk-estimator-id-4\" class=\"sk-toggleable__label sk-toggleable__label-arrow\">GaussianNB</label><div class=\"sk-toggleable__content\"><pre>GaussianNB()</pre></div></div></div></div></div>"
      ],
      "text/plain": [
       "GaussianNB()"
      ]
     },
     "execution_count": 103,
     "metadata": {},
     "output_type": "execute_result"
    }
   ],
   "source": [
    "clf_dt.fit(x_train, y_train)\n",
    "clf_rf.fit(x_train, y_train)\n",
    "clf_knn.fit(x_train, y_train)\n",
    "clf_svm.fit(x_train, y_train)\n",
    "clf_nb.fit(x_train, y_train)"
   ]
  },
  {
   "cell_type": "code",
   "execution_count": 104,
   "id": "3fa48724-6094-425e-af06-8d1fc1ede1b7",
   "metadata": {},
   "outputs": [],
   "source": [
    "from sklearn.metrics import classification_report, accuracy_score"
   ]
  },
  {
   "cell_type": "code",
   "execution_count": 105,
   "id": "5648c3da-af2a-477e-ae83-83421793e771",
   "metadata": {},
   "outputs": [
    {
     "name": "stdout",
     "output_type": "stream",
     "text": [
      "DT:  0.9230769230769231\n",
      "RF:  0.9230769230769231\n",
      "KNN:  0.8974358974358975\n",
      "SVM:  0.8717948717948718\n",
      "NB:  0.8974358974358975\n"
     ]
    }
   ],
   "source": [
    "print('DT: ', accuracy_score(clf_dt.predict(x_test), y_test))\n",
    "print('RF: ', accuracy_score(clf_rf.predict(x_test), y_test))\n",
    "print('KNN: ', accuracy_score(clf_knn.predict(x_test), y_test))\n",
    "print('SVM: ', accuracy_score(clf_svm.predict(x_test), y_test))\n",
    "print('NB: ', accuracy_score(clf_nb.predict(x_test), y_test))"
   ]
  },
  {
   "cell_type": "markdown",
   "id": "96bb61be-0c01-4dfe-a3a9-00f910d51f98",
   "metadata": {},
   "source": [
    "### 12. Create the dataframe which shows the comparison of accuracy and speed of different classification algorithm implemented on this dataset"
   ]
  },
  {
   "cell_type": "code",
   "execution_count": 106,
   "id": "79947167-89b8-4fab-a670-3be6013031ae",
   "metadata": {},
   "outputs": [],
   "source": [
    "from sklearn.datasets import make_blobs"
   ]
  },
  {
   "cell_type": "code",
   "execution_count": 107,
   "id": "ce8c762b-9b67-4649-a675-1d0a2e0ed3e5",
   "metadata": {},
   "outputs": [],
   "source": [
    "x, y = make_blobs(n_samples=300, centers=3, cluster_std=0.60, random_state=0)"
   ]
  },
  {
   "cell_type": "code",
   "execution_count": 108,
   "id": "eb8f968e-6c9e-45ba-8584-92665afd789b",
   "metadata": {},
   "outputs": [],
   "source": [
    "from sklearn.model_selection import train_test_split"
   ]
  },
  {
   "cell_type": "code",
   "execution_count": 110,
   "id": "1087271a-cd25-48ff-b3d0-869ce9cad65f",
   "metadata": {},
   "outputs": [],
   "source": [
    "x_train, x_test, y_train, y_test =  train_test_split(x, y, random_state=0, test_size=0.2)"
   ]
  },
  {
   "cell_type": "code",
   "execution_count": 111,
   "id": "307fde52-3820-4aa9-a876-2073d4e1a38a",
   "metadata": {},
   "outputs": [],
   "source": [
    "clf_dt = DecisionTreeClassifier(random_state=0)\n",
    "clf_rf = RandomForestClassifier(random_state=0, n_estimators = 10)\n",
    "clf_knn = KNeighborsClassifier(n_neighbors=5)\n",
    "clf_svm = SVC(random_state = 0, kernel='rbf')\n",
    "clf_nb = GaussianNB()"
   ]
  },
  {
   "cell_type": "code",
   "execution_count": 112,
   "id": "27ca5600-3d02-4047-b2aa-d728b66abe1a",
   "metadata": {},
   "outputs": [
    {
     "data": {
      "text/html": [
       "<style>#sk-container-id-5 {color: black;background-color: white;}#sk-container-id-5 pre{padding: 0;}#sk-container-id-5 div.sk-toggleable {background-color: white;}#sk-container-id-5 label.sk-toggleable__label {cursor: pointer;display: block;width: 100%;margin-bottom: 0;padding: 0.3em;box-sizing: border-box;text-align: center;}#sk-container-id-5 label.sk-toggleable__label-arrow:before {content: \"▸\";float: left;margin-right: 0.25em;color: #696969;}#sk-container-id-5 label.sk-toggleable__label-arrow:hover:before {color: black;}#sk-container-id-5 div.sk-estimator:hover label.sk-toggleable__label-arrow:before {color: black;}#sk-container-id-5 div.sk-toggleable__content {max-height: 0;max-width: 0;overflow: hidden;text-align: left;background-color: #f0f8ff;}#sk-container-id-5 div.sk-toggleable__content pre {margin: 0.2em;color: black;border-radius: 0.25em;background-color: #f0f8ff;}#sk-container-id-5 input.sk-toggleable__control:checked~div.sk-toggleable__content {max-height: 200px;max-width: 100%;overflow: auto;}#sk-container-id-5 input.sk-toggleable__control:checked~label.sk-toggleable__label-arrow:before {content: \"▾\";}#sk-container-id-5 div.sk-estimator input.sk-toggleable__control:checked~label.sk-toggleable__label {background-color: #d4ebff;}#sk-container-id-5 div.sk-label input.sk-toggleable__control:checked~label.sk-toggleable__label {background-color: #d4ebff;}#sk-container-id-5 input.sk-hidden--visually {border: 0;clip: rect(1px 1px 1px 1px);clip: rect(1px, 1px, 1px, 1px);height: 1px;margin: -1px;overflow: hidden;padding: 0;position: absolute;width: 1px;}#sk-container-id-5 div.sk-estimator {font-family: monospace;background-color: #f0f8ff;border: 1px dotted black;border-radius: 0.25em;box-sizing: border-box;margin-bottom: 0.5em;}#sk-container-id-5 div.sk-estimator:hover {background-color: #d4ebff;}#sk-container-id-5 div.sk-parallel-item::after {content: \"\";width: 100%;border-bottom: 1px solid gray;flex-grow: 1;}#sk-container-id-5 div.sk-label:hover label.sk-toggleable__label {background-color: #d4ebff;}#sk-container-id-5 div.sk-serial::before {content: \"\";position: absolute;border-left: 1px solid gray;box-sizing: border-box;top: 0;bottom: 0;left: 50%;z-index: 0;}#sk-container-id-5 div.sk-serial {display: flex;flex-direction: column;align-items: center;background-color: white;padding-right: 0.2em;padding-left: 0.2em;position: relative;}#sk-container-id-5 div.sk-item {position: relative;z-index: 1;}#sk-container-id-5 div.sk-parallel {display: flex;align-items: stretch;justify-content: center;background-color: white;position: relative;}#sk-container-id-5 div.sk-item::before, #sk-container-id-5 div.sk-parallel-item::before {content: \"\";position: absolute;border-left: 1px solid gray;box-sizing: border-box;top: 0;bottom: 0;left: 50%;z-index: -1;}#sk-container-id-5 div.sk-parallel-item {display: flex;flex-direction: column;z-index: 1;position: relative;background-color: white;}#sk-container-id-5 div.sk-parallel-item:first-child::after {align-self: flex-end;width: 50%;}#sk-container-id-5 div.sk-parallel-item:last-child::after {align-self: flex-start;width: 50%;}#sk-container-id-5 div.sk-parallel-item:only-child::after {width: 0;}#sk-container-id-5 div.sk-dashed-wrapped {border: 1px dashed gray;margin: 0 0.4em 0.5em 0.4em;box-sizing: border-box;padding-bottom: 0.4em;background-color: white;}#sk-container-id-5 div.sk-label label {font-family: monospace;font-weight: bold;display: inline-block;line-height: 1.2em;}#sk-container-id-5 div.sk-label-container {text-align: center;}#sk-container-id-5 div.sk-container {/* jupyter's `normalize.less` sets `[hidden] { display: none; }` but bootstrap.min.css set `[hidden] { display: none !important; }` so we also need the `!important` here to be able to override the default hidden behavior on the sphinx rendered scikit-learn.org. See: https://github.com/scikit-learn/scikit-learn/issues/21755 */display: inline-block !important;position: relative;}#sk-container-id-5 div.sk-text-repr-fallback {display: none;}</style><div id=\"sk-container-id-5\" class=\"sk-top-container\"><div class=\"sk-text-repr-fallback\"><pre>GaussianNB()</pre><b>In a Jupyter environment, please rerun this cell to show the HTML representation or trust the notebook. <br />On GitHub, the HTML representation is unable to render, please try loading this page with nbviewer.org.</b></div><div class=\"sk-container\" hidden><div class=\"sk-item\"><div class=\"sk-estimator sk-toggleable\"><input class=\"sk-toggleable__control sk-hidden--visually\" id=\"sk-estimator-id-5\" type=\"checkbox\" checked><label for=\"sk-estimator-id-5\" class=\"sk-toggleable__label sk-toggleable__label-arrow\">GaussianNB</label><div class=\"sk-toggleable__content\"><pre>GaussianNB()</pre></div></div></div></div></div>"
      ],
      "text/plain": [
       "GaussianNB()"
      ]
     },
     "execution_count": 112,
     "metadata": {},
     "output_type": "execute_result"
    }
   ],
   "source": [
    "clf_dt.fit(x_train, y_train)\n",
    "clf_rf.fit(x_train, y_train)\n",
    "clf_knn.fit(x_train, y_train)\n",
    "clf_svm.fit(x_train, y_train)\n",
    "clf_nb.fit(x_train, y_train)"
   ]
  },
  {
   "cell_type": "code",
   "execution_count": 113,
   "id": "53c4bbe4-82a0-4df0-bcc9-d7a506fddc4c",
   "metadata": {},
   "outputs": [],
   "source": [
    "from sklearn.metrics import classification_report, accuracy_score"
   ]
  },
  {
   "cell_type": "code",
   "execution_count": 114,
   "id": "a8da8b04-4906-4874-994c-7f12d36914a7",
   "metadata": {},
   "outputs": [
    {
     "name": "stdout",
     "output_type": "stream",
     "text": [
      "DT:  0.9833333333333333\n",
      "RF:  0.9833333333333333\n",
      "KNN:  0.9833333333333333\n",
      "SVM:  0.9833333333333333\n",
      "NB:  1.0\n"
     ]
    }
   ],
   "source": [
    "print('DT: ', accuracy_score(clf_dt.predict(x_test), y_test))\n",
    "print('RF: ', accuracy_score(clf_rf.predict(x_test), y_test))\n",
    "print('KNN: ', accuracy_score(clf_knn.predict(x_test), y_test))\n",
    "print('SVM: ', accuracy_score(clf_svm.predict(x_test), y_test))\n",
    "print('NB: ', accuracy_score(clf_nb.predict(x_test), y_test))"
   ]
  },
  {
   "cell_type": "code",
   "execution_count": null,
   "id": "6cde1e19-0494-47e3-8a82-42a563355b71",
   "metadata": {},
   "outputs": [],
   "source": []
  }
 ],
 "metadata": {
  "kernelspec": {
   "display_name": "Python 3 (ipykernel)",
   "language": "python",
   "name": "python3"
  },
  "language_info": {
   "codemirror_mode": {
    "name": "ipython",
    "version": 3
   },
   "file_extension": ".py",
   "mimetype": "text/x-python",
   "name": "python",
   "nbconvert_exporter": "python",
   "pygments_lexer": "ipython3",
   "version": "3.11.7"
  }
 },
 "nbformat": 4,
 "nbformat_minor": 5
}
